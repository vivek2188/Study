{
 "cells": [
  {
   "cell_type": "markdown",
   "metadata": {
    "colab_type": "text",
    "id": "3pd7yOnQkOKJ"
   },
   "source": [
    "*Performed on Google Colab*\n",
    "\n",
    "**Importing the libraries**"
   ]
  },
  {
   "cell_type": "code",
   "execution_count": 0,
   "metadata": {
    "colab": {
     "autoexec": {
      "startup": false,
      "wait_interval": 0
     }
    },
    "colab_type": "code",
    "id": "DFtj4sFMVuSX"
   },
   "outputs": [],
   "source": [
    "import numpy as np\n",
    "import matplotlib.pyplot as plt\n",
    "import tensorflow as tf\n",
    "from sklearn.metrics import confusion_matrix\n",
    "\n",
    "%matplotlib inline"
   ]
  },
  {
   "cell_type": "markdown",
   "metadata": {
    "colab_type": "text",
    "id": "8CG2xHOukjxu"
   },
   "source": [
    "**Version of the tensorflow**"
   ]
  },
  {
   "cell_type": "code",
   "execution_count": 2,
   "metadata": {
    "colab": {
     "autoexec": {
      "startup": false,
      "wait_interval": 0
     },
     "base_uri": "https://localhost:8080/",
     "height": 33
    },
    "colab_type": "code",
    "executionInfo": {
     "elapsed": 1312,
     "status": "ok",
     "timestamp": 1531304441800,
     "user": {
      "displayName": "Vivek Tiwari",
      "photoUrl": "https://lh3.googleusercontent.com/a/default-user=s128",
      "userId": "114333608223615134400"
     },
     "user_tz": -330
    },
    "id": "XjQEYFWZki9V",
    "outputId": "77ed15f3-9c48-4c5a-f52e-fdb292e8fdc0"
   },
   "outputs": [
    {
     "data": {
      "text/plain": [
       "'1.9.0-rc2'"
      ]
     },
     "execution_count": 2,
     "metadata": {
      "tags": []
     },
     "output_type": "execute_result"
    }
   ],
   "source": [
    "tf.__version__"
   ]
  },
  {
   "cell_type": "markdown",
   "metadata": {
    "colab_type": "text",
    "id": "_5T4dT-Lk0Eb"
   },
   "source": [
    "**Importing the dataset**"
   ]
  },
  {
   "cell_type": "code",
   "execution_count": 4,
   "metadata": {
    "colab": {
     "autoexec": {
      "startup": false,
      "wait_interval": 0
     },
     "base_uri": "https://localhost:8080/",
     "height": 84
    },
    "colab_type": "code",
    "executionInfo": {
     "elapsed": 1578,
     "status": "ok",
     "timestamp": 1531304456683,
     "user": {
      "displayName": "Vivek Tiwari",
      "photoUrl": "https://lh3.googleusercontent.com/a/default-user=s128",
      "userId": "114333608223615134400"
     },
     "user_tz": -330
    },
    "id": "Q_Wh1tMEkuUE",
    "outputId": "6c062f4b-ab43-4632-d4c7-0ea7a9853c71"
   },
   "outputs": [
    {
     "name": "stdout",
     "output_type": "stream",
     "text": [
      "Extracting data/MNIST/train-images-idx3-ubyte.gz\n",
      "Extracting data/MNIST/train-labels-idx1-ubyte.gz\n",
      "Extracting data/MNIST/t10k-images-idx3-ubyte.gz\n",
      "Extracting data/MNIST/t10k-labels-idx1-ubyte.gz\n"
     ]
    }
   ],
   "source": [
    "from tensorflow.examples.tutorials.mnist import input_data\n",
    "data = input_data.read_data_sets('data/MNIST',one_hot=True)"
   ]
  },
  {
   "cell_type": "code",
   "execution_count": 5,
   "metadata": {
    "colab": {
     "autoexec": {
      "startup": false,
      "wait_interval": 0
     },
     "base_uri": "https://localhost:8080/",
     "height": 67
    },
    "colab_type": "code",
    "executionInfo": {
     "elapsed": 1163,
     "status": "ok",
     "timestamp": 1531304458109,
     "user": {
      "displayName": "Vivek Tiwari",
      "photoUrl": "https://lh3.googleusercontent.com/a/default-user=s128",
      "userId": "114333608223615134400"
     },
     "user_tz": -330
    },
    "id": "Pn-fhPkOlIr3",
    "outputId": "3b5ad803-b721-4d63-9d5a-6ec074926f28"
   },
   "outputs": [
    {
     "name": "stdout",
     "output_type": "stream",
     "text": [
      "Size of the training set: 55000\n",
      "Size of the test set: 10000\n",
      "Size of the validation set: 5000\n"
     ]
    }
   ],
   "source": [
    "print('Size of the training set: '+str(len(data.train.labels)))\n",
    "print('Size of the test set: '+str(len(data.test.labels)))\n",
    "print('Size of the validation set: '+str(len(data.validation.labels)))"
   ]
  },
  {
   "cell_type": "code",
   "execution_count": 0,
   "metadata": {
    "colab": {
     "autoexec": {
      "startup": false,
      "wait_interval": 0
     }
    },
    "colab_type": "code",
    "id": "2X8e42HVlf3n"
   },
   "outputs": [],
   "source": [
    "data.test.cls = np.argmax(data.test.labels,axis=1)"
   ]
  },
  {
   "cell_type": "markdown",
   "metadata": {
    "colab_type": "text",
    "id": "lj07um0-lmhJ"
   },
   "source": [
    "**Data Dimensions**"
   ]
  },
  {
   "cell_type": "code",
   "execution_count": 0,
   "metadata": {
    "colab": {
     "autoexec": {
      "startup": false,
      "wait_interval": 0
     }
    },
    "colab_type": "code",
    "id": "ra3dK0WFlk3u"
   },
   "outputs": [],
   "source": [
    "img_size = 28\n",
    "img_shape = (img_size, img_size)\n",
    "img_flat_size = img_size * img_size\n",
    "\n",
    "n_classes = 10\n",
    "n_channels = 1"
   ]
  },
  {
   "cell_type": "markdown",
   "metadata": {
    "colab_type": "text",
    "id": "ZHsTZPAxmILX"
   },
   "source": [
    "**Helper Function for plotting images**"
   ]
  },
  {
   "cell_type": "code",
   "execution_count": 0,
   "metadata": {
    "colab": {
     "autoexec": {
      "startup": false,
      "wait_interval": 0
     }
    },
    "colab_type": "code",
    "id": "e30Qh2XsmHCB"
   },
   "outputs": [],
   "source": [
    "def plot_images(images,y_true,y_pred=None):\n",
    "  assert len(images) == len(y_true) == 9\n",
    "  \n",
    "  fig, axes = plt.subplots(3,3)\n",
    "  fig.subplots_adjust(hspace=0.3,wspace=0.3)\n",
    "  \n",
    "  for indx, ax in enumerate(axes.flat):\n",
    "    ax.imshow(images[indx].reshape(img_shape),cmap='binary')\n",
    "    \n",
    "    if y_pred is None:\n",
    "      xlabel = 'True ' + str(y_true[indx])\n",
    "    else:\n",
    "      xlabel = 'True ' + str(y_true[indx]) + ', Pred ' + str(y_pred[indx])\n",
    "    \n",
    "    ax.set_xlabel(xlabel)\n",
    "    \n",
    "    ax.set_xticks([])\n",
    "    ax.set_yticks([])\n",
    " \n",
    "  plt.show()"
   ]
  },
  {
   "cell_type": "code",
   "execution_count": 9,
   "metadata": {
    "colab": {
     "autoexec": {
      "startup": false,
      "wait_interval": 0
     },
     "base_uri": "https://localhost:8080/",
     "height": 262
    },
    "colab_type": "code",
    "executionInfo": {
     "elapsed": 1707,
     "status": "ok",
     "timestamp": 1531304466264,
     "user": {
      "displayName": "Vivek Tiwari",
      "photoUrl": "https://lh3.googleusercontent.com/a/default-user=s128",
      "userId": "114333608223615134400"
     },
     "user_tz": -330
    },
    "id": "ko_nuZwVnH5z",
    "outputId": "b4161e16-c95c-4bdc-8b73-35115c1133fc"
   },
   "outputs": [
    {
     "data": {
      "image/png": "[encoded data removed]",
      "text/plain": [
       "<matplotlib.figure.Figure at 0x7fc5a3700b00>"
      ]
     },
     "metadata": {
      "tags": []
     },
     "output_type": "display_data"
    }
   ],
   "source": [
    "images = data.test.images[:9]\n",
    "y_true = data.test.cls[:9]\n",
    "\n",
    "plot_images(images,y_true)"
   ]
  },
  {
   "cell_type": "markdown",
   "metadata": {
    "colab_type": "text",
    "id": "tVXwWgqJnWE8"
   },
   "source": [
    "**Tensorflow Graph**"
   ]
  },
  {
   "cell_type": "code",
   "execution_count": 0,
   "metadata": {
    "colab": {
     "autoexec": {
      "startup": false,
      "wait_interval": 0
     }
    },
    "colab_type": "code",
    "id": "NKZZ3F8WnTrW"
   },
   "outputs": [],
   "source": [
    "X = tf.placeholder(tf.float32,shape=[None,img_flat_size],name='X')\n",
    "y = tf.placeholder(tf.float32,shape=[None,n_classes],name='y')\n",
    "\n",
    "X_images = tf.reshape(X,[-1,img_size,img_size,n_channels])\n",
    "y_cls  = tf.argmax(y,axis=1)"
   ]
  },
  {
   "cell_type": "markdown",
   "metadata": {
    "colab_type": "text",
    "id": "zbiyw-YpoEOQ"
   },
   "source": [
    "**Layers Implementation**"
   ]
  },
  {
   "cell_type": "code",
   "execution_count": 0,
   "metadata": {
    "colab": {
     "autoexec": {
      "startup": false,
      "wait_interval": 0
     }
    },
    "colab_type": "code",
    "id": "fy7-aOEbn0ex"
   },
   "outputs": [],
   "source": [
    "net = X_images\n",
    "net = tf.layers.conv2d(inputs=X_images,name='Layerconv1',padding='SAME',filters=16,activation=tf.nn.relu,kernel_size=5)\n",
    "conv_layer1 = net\n",
    "net = tf.layers.max_pooling2d(inputs=net,pool_size=2,strides=2)\n",
    "net = tf.layers.conv2d(inputs=net,name='Layerconv2',padding='SAME',filters=16,activation=tf.nn.relu,kernel_size=5)\n",
    "conv_layer2 = net\n",
    "net = tf.layers.max_pooling2d(inputs=net,pool_size=2,strides=2)\n",
    "net = tf.contrib.layers.flatten(net)\n",
    "net = tf.layers.dense(inputs=net,name='FC1',units=128,activation=tf.nn.relu)\n",
    "net = tf.layers.dense(inputs=net,name='FC2',units=n_classes,activation=None)\n",
    "logits = net"
   ]
  },
  {
   "cell_type": "code",
   "execution_count": 0,
   "metadata": {
    "colab": {
     "autoexec": {
      "startup": false,
      "wait_interval": 0
     }
    },
    "colab_type": "code",
    "id": "UYsf4LriqOjl"
   },
   "outputs": [],
   "source": [
    "y_pred = tf.nn.softmax(logits)\n",
    "y_pred_cls = tf.argmax(y_pred,axis=1)"
   ]
  },
  {
   "cell_type": "markdown",
   "metadata": {
    "colab_type": "text",
    "id": "HhfdnBaBr893"
   },
   "source": [
    "**Loss to be optimized**"
   ]
  },
  {
   "cell_type": "code",
   "execution_count": 0,
   "metadata": {
    "colab": {
     "autoexec": {
      "startup": false,
      "wait_interval": 0
     }
    },
    "colab_type": "code",
    "id": "jBuPbMbor8f4"
   },
   "outputs": [],
   "source": [
    "cost = tf.reduce_mean(tf.nn.softmax_cross_entropy_with_logits_v2(logits=logits,labels=y))"
   ]
  },
  {
   "cell_type": "markdown",
   "metadata": {
    "colab_type": "text",
    "id": "JpSIZZhfsUlL"
   },
   "source": [
    "**Optimization Method**"
   ]
  },
  {
   "cell_type": "code",
   "execution_count": 0,
   "metadata": {
    "colab": {
     "autoexec": {
      "startup": false,
      "wait_interval": 0
     }
    },
    "colab_type": "code",
    "id": "bGDmV6_ksRHz"
   },
   "outputs": [],
   "source": [
    "optimizer = tf.train.AdamOptimizer(learning_rate=1e-3).minimize(cost)"
   ]
  },
  {
   "cell_type": "code",
   "execution_count": 0,
   "metadata": {
    "colab": {
     "autoexec": {
      "startup": false,
      "wait_interval": 0
     }
    },
    "colab_type": "code",
    "id": "KuQzQioxsmcu"
   },
   "outputs": [],
   "source": [
    "correct_prediction = tf.equal(y_pred_cls,y_cls)\n",
    "accuracy = tf.reduce_mean(tf.cast(correct_prediction,tf.float32))"
   ]
  },
  {
   "cell_type": "markdown",
   "metadata": {
    "colab_type": "text",
    "id": "FNC3szd0tHPL"
   },
   "source": [
    "**Getting the weights**"
   ]
  },
  {
   "cell_type": "code",
   "execution_count": 16,
   "metadata": {
    "colab": {
     "autoexec": {
      "startup": false,
      "wait_interval": 0
     },
     "base_uri": "https://localhost:8080/",
     "height": 472
    },
    "colab_type": "code",
    "executionInfo": {
     "elapsed": 1670,
     "status": "ok",
     "timestamp": 1531304525228,
     "user": {
      "displayName": "Vivek Tiwari",
      "photoUrl": "https://lh3.googleusercontent.com/a/default-user=s128",
      "userId": "114333608223615134400"
     },
     "user_tz": -330
    },
    "id": "YqHh0yh-tExZ",
    "outputId": "f2c7713a-e733-426e-8b9a-ad15da182378"
   },
   "outputs": [
    {
     "name": "stdout",
     "output_type": "stream",
     "text": [
      "<tf.Variable 'Layerconv1/kernel:0' shape=(5, 5, 1, 16) dtype=float32_ref>\n",
      "<tf.Variable 'Layerconv1/bias:0' shape=(16,) dtype=float32_ref>\n",
      "<tf.Variable 'Layerconv2/kernel:0' shape=(5, 5, 16, 16) dtype=float32_ref>\n",
      "<tf.Variable 'Layerconv2/bias:0' shape=(16,) dtype=float32_ref>\n",
      "<tf.Variable 'FC1/kernel:0' shape=(784, 128) dtype=float32_ref>\n",
      "<tf.Variable 'FC1/bias:0' shape=(128,) dtype=float32_ref>\n",
      "<tf.Variable 'FC2/kernel:0' shape=(128, 10) dtype=float32_ref>\n",
      "<tf.Variable 'FC2/bias:0' shape=(10,) dtype=float32_ref>\n",
      "<tf.Variable 'beta1_power:0' shape=() dtype=float32_ref>\n",
      "<tf.Variable 'beta2_power:0' shape=() dtype=float32_ref>\n",
      "<tf.Variable 'Layerconv1/kernel/Adam:0' shape=(5, 5, 1, 16) dtype=float32_ref>\n",
      "<tf.Variable 'Layerconv1/kernel/Adam_1:0' shape=(5, 5, 1, 16) dtype=float32_ref>\n",
      "<tf.Variable 'Layerconv1/bias/Adam:0' shape=(16,) dtype=float32_ref>\n",
      "<tf.Variable 'Layerconv1/bias/Adam_1:0' shape=(16,) dtype=float32_ref>\n",
      "<tf.Variable 'Layerconv2/kernel/Adam:0' shape=(5, 5, 16, 16) dtype=float32_ref>\n",
      "<tf.Variable 'Layerconv2/kernel/Adam_1:0' shape=(5, 5, 16, 16) dtype=float32_ref>\n",
      "<tf.Variable 'Layerconv2/bias/Adam:0' shape=(16,) dtype=float32_ref>\n",
      "<tf.Variable 'Layerconv2/bias/Adam_1:0' shape=(16,) dtype=float32_ref>\n",
      "<tf.Variable 'FC1/kernel/Adam:0' shape=(784, 128) dtype=float32_ref>\n",
      "<tf.Variable 'FC1/kernel/Adam_1:0' shape=(784, 128) dtype=float32_ref>\n",
      "<tf.Variable 'FC1/bias/Adam:0' shape=(128,) dtype=float32_ref>\n",
      "<tf.Variable 'FC1/bias/Adam_1:0' shape=(128,) dtype=float32_ref>\n",
      "<tf.Variable 'FC2/kernel/Adam:0' shape=(128, 10) dtype=float32_ref>\n",
      "<tf.Variable 'FC2/kernel/Adam_1:0' shape=(128, 10) dtype=float32_ref>\n",
      "<tf.Variable 'FC2/bias/Adam:0' shape=(10,) dtype=float32_ref>\n",
      "<tf.Variable 'FC2/bias/Adam_1:0' shape=(10,) dtype=float32_ref>\n"
     ]
    }
   ],
   "source": [
    "for var in tf.get_collection(tf.GraphKeys.GLOBAL_VARIABLES):\n",
    "  print(var)"
   ]
  },
  {
   "cell_type": "code",
   "execution_count": 0,
   "metadata": {
    "colab": {
     "autoexec": {
      "startup": false,
      "wait_interval": 0
     }
    },
    "colab_type": "code",
    "id": "bNAOVicUtg73"
   },
   "outputs": [],
   "source": [
    "def get_weights_variable(layer_name):\n",
    "  with tf.variable_scope(layer_name,reuse=True):\n",
    "    variable = tf.get_variable('kernel')\n",
    "  \n",
    "  return variable"
   ]
  },
  {
   "cell_type": "code",
   "execution_count": 0,
   "metadata": {
    "colab": {
     "autoexec": {
      "startup": false,
      "wait_interval": 0
     }
    },
    "colab_type": "code",
    "id": "-KgqoM4cxNFl"
   },
   "outputs": [],
   "source": [
    "weights_conv1 = get_weights_variable('Layerconv1')\n",
    "weights_conv2 = get_weights_variable('Layerconv2')"
   ]
  },
  {
   "cell_type": "code",
   "execution_count": 0,
   "metadata": {
    "colab": {
     "autoexec": {
      "startup": false,
      "wait_interval": 0
     }
    },
    "colab_type": "code",
    "id": "RMCT-AGOxkTO"
   },
   "outputs": [],
   "source": [
    "sess = tf.Session()\n",
    "sess.run(tf.global_variables_initializer())\n",
    "batch_size = 256"
   ]
  },
  {
   "cell_type": "code",
   "execution_count": 0,
   "metadata": {
    "colab": {
     "autoexec": {
      "startup": false,
      "wait_interval": 0
     }
    },
    "colab_type": "code",
    "id": "hWG-QCWMyCPN"
   },
   "outputs": [],
   "source": [
    "total_iterations = 0\n",
    "import time\n",
    "\n",
    "def optimize(n_iterations):\n",
    "  global total_iterations\n",
    "  \n",
    "  start = time.time()\n",
    "  for i in range(n_iterations):\n",
    "    x_batch, y_batch = data.train.next_batch(batch_size)\n",
    "    feed_dict = {X:x_batch,y:y_batch}\n",
    "    \n",
    "    sess.run(optimizer,feed_dict=feed_dict)\n",
    "    \n",
    "    if i%1000 == 0:\n",
    "      acc = sess.run(accuracy,feed_dict=feed_dict)\n",
    "      print('Iteration: '+ str(i) + ' Training Accuracy: '+  str(acc))\n",
    "  total_iterations += n_iterations\n",
    "  end = time.time()\n",
    "  \n",
    "  print('Time Usage: '+ str(end-start))"
   ]
  },
  {
   "cell_type": "code",
   "execution_count": 0,
   "metadata": {
    "colab": {
     "autoexec": {
      "startup": false,
      "wait_interval": 0
     }
    },
    "colab_type": "code",
    "id": "UVsFPGrbyFTa"
   },
   "outputs": [],
   "source": [
    "def plot_example_errors(y_pred,correct):\n",
    "  incorrect = (correct == False)\n",
    "  \n",
    "  images = data.test.images[incorrect]\n",
    "  y_pred = y_pred[incorrect]\n",
    "  y_true = data.test.cls[incorrect]\n",
    "  \n",
    "  plot_images(images[:9],y_true[:9],y_pred[:9])"
   ]
  },
  {
   "cell_type": "code",
   "execution_count": 0,
   "metadata": {
    "colab": {
     "autoexec": {
      "startup": false,
      "wait_interval": 0
     }
    },
    "colab_type": "code",
    "id": "JXoYteeByHyl"
   },
   "outputs": [],
   "source": [
    "def print_confusion_matrix(y_pred):\n",
    "  y_true = data.test.cls\n",
    "  \n",
    "  cm = confusion_matrix(y_true=y_true,y_pred=y_pred)\n",
    "  \n",
    "  print(cm)\n",
    "  \n",
    "  #Plot Confusion Matrix as an image\n",
    "  plt.imshow(cm,interpolation='nearest',cmap=plt.cm.Spectral)\n",
    "  \n",
    "  plt.tight_layout()\n",
    "  plt.colorbar()\n",
    "  tick_marks = np.arange(n_classes)\n",
    "  plt.xticks(tick_marks,range(n_classes))\n",
    "  plt.yticks(tick_marks,range(n_classes))\n",
    "  plt.xlabel('Predicted')\n",
    "  plt.ylabel('True')\n",
    "  \n",
    "  plt.show()"
   ]
  },
  {
   "cell_type": "code",
   "execution_count": 0,
   "metadata": {
    "colab": {
     "autoexec": {
      "startup": false,
      "wait_interval": 0
     }
    },
    "colab_type": "code",
    "id": "POzssyD0yNCs"
   },
   "outputs": [],
   "source": [
    "test_batch_size = 256\n",
    "\n",
    "def print_test_accuracy(show_example_errors=False,show_confusion_matrix=False):\n",
    "  n_test = len(data.test.labels)\n",
    "  \n",
    "  cls_pred = np.zeros(shape=n_test,dtype=np.int)\n",
    "  \n",
    "  i=0\n",
    "  while i < n_test:\n",
    "    j = min(i+test_batch_size,n_test)\n",
    "    \n",
    "    images = data.test.images[i:j]\n",
    "    labels = data.test.labels[i:j]\n",
    "    \n",
    "    feed_dict = {X:images,y:labels}\n",
    "    cls_pred[i:j] = sess.run(y_pred_cls,feed_dict=feed_dict)\n",
    "    \n",
    "    i = j\n",
    "  cls_true = data.test.cls\n",
    "  correct = cls_true == cls_pred\n",
    "  correct_sum = correct.sum()\n",
    "  acc = float(correct_sum) / n_test\n",
    "  print('Accuracy: '+str(acc))\n",
    "  \n",
    "  if show_example_errors:\n",
    "    print('Example errors: ')\n",
    "    plot_example_errors(cls_pred,correct)\n",
    "    \n",
    "  if show_confusion_matrix:\n",
    "    print('Confusion Matrix: ')\n",
    "    print_confusion_matrix(cls_pred)"
   ]
  },
  {
   "cell_type": "code",
   "execution_count": 42,
   "metadata": {
    "colab": {
     "autoexec": {
      "startup": false,
      "wait_interval": 0
     },
     "base_uri": "https://localhost:8080/",
     "height": 33
    },
    "colab_type": "code",
    "executionInfo": {
     "elapsed": 1373,
     "status": "ok",
     "timestamp": 1531304797604,
     "user": {
      "displayName": "Vivek Tiwari",
      "photoUrl": "https://lh3.googleusercontent.com/a/default-user=s128",
      "userId": "114333608223615134400"
     },
     "user_tz": -330
    },
    "id": "a2bN0DdxyY7w",
    "outputId": "ed98293c-867c-4297-fad7-c7e061bb2b40"
   },
   "outputs": [
    {
     "name": "stdout",
     "output_type": "stream",
     "text": [
      "Accuracy: 0.1596\n"
     ]
    }
   ],
   "source": [
    "print_test_accuracy()"
   ]
  },
  {
   "cell_type": "code",
   "execution_count": 43,
   "metadata": {
    "colab": {
     "autoexec": {
      "startup": false,
      "wait_interval": 0
     },
     "base_uri": "https://localhost:8080/",
     "height": 50
    },
    "colab_type": "code",
    "executionInfo": {
     "elapsed": 1004,
     "status": "ok",
     "timestamp": 1531304823718,
     "user": {
      "displayName": "Vivek Tiwari",
      "photoUrl": "https://lh3.googleusercontent.com/a/default-user=s128",
      "userId": "114333608223615134400"
     },
     "user_tz": -330
    },
    "id": "7lnvwYpSyct3",
    "outputId": "acf38788-f1b9-4242-bad5-28427eb8b266"
   },
   "outputs": [
    {
     "name": "stdout",
     "output_type": "stream",
     "text": [
      "Iteration: 0 Training Accuracy: 0.22265625\n",
      "Time Usage: 0.2613396644592285\n"
     ]
    }
   ],
   "source": [
    "optimize(1)"
   ]
  },
  {
   "cell_type": "code",
   "execution_count": 44,
   "metadata": {
    "colab": {
     "autoexec": {
      "startup": false,
      "wait_interval": 0
     },
     "base_uri": "https://localhost:8080/",
     "height": 33
    },
    "colab_type": "code",
    "executionInfo": {
     "elapsed": 1396,
     "status": "ok",
     "timestamp": 1531304839591,
     "user": {
      "displayName": "Vivek Tiwari",
      "photoUrl": "https://lh3.googleusercontent.com/a/default-user=s128",
      "userId": "114333608223615134400"
     },
     "user_tz": -330
    },
    "id": "rXjdmMlF4UZt",
    "outputId": "fa09e49b-39c1-46a0-c1d0-0d34c592ac9f"
   },
   "outputs": [
    {
     "name": "stdout",
     "output_type": "stream",
     "text": [
      "Accuracy: 0.1921\n"
     ]
    }
   ],
   "source": [
    "print_test_accuracy()"
   ]
  },
  {
   "cell_type": "code",
   "execution_count": 45,
   "metadata": {
    "colab": {
     "autoexec": {
      "startup": false,
      "wait_interval": 0
     },
     "base_uri": "https://localhost:8080/",
     "height": 50
    },
    "colab_type": "code",
    "executionInfo": {
     "elapsed": 1797,
     "status": "ok",
     "timestamp": 1531304851368,
     "user": {
      "displayName": "Vivek Tiwari",
      "photoUrl": "https://lh3.googleusercontent.com/a/default-user=s128",
      "userId": "114333608223615134400"
     },
     "user_tz": -330
    },
    "id": "s95jGyXj4YLl",
    "outputId": "cc078db2-cb74-4b73-95d0-4649e7c7ee65"
   },
   "outputs": [
    {
     "name": "stdout",
     "output_type": "stream",
     "text": [
      "Iteration: 0 Training Accuracy: 0.23828125\n",
      "Time Usage: 0.8868155479431152\n"
     ]
    }
   ],
   "source": [
    "optimize(99)"
   ]
  },
  {
   "cell_type": "code",
   "execution_count": 46,
   "metadata": {
    "colab": {
     "autoexec": {
      "startup": false,
      "wait_interval": 0
     },
     "base_uri": "https://localhost:8080/",
     "height": 33
    },
    "colab_type": "code",
    "executionInfo": {
     "elapsed": 1724,
     "status": "ok",
     "timestamp": 1531304858089,
     "user": {
      "displayName": "Vivek Tiwari",
      "photoUrl": "https://lh3.googleusercontent.com/a/default-user=s128",
      "userId": "114333608223615134400"
     },
     "user_tz": -330
    },
    "id": "DNiwNFqw4a89",
    "outputId": "b7939f3c-6714-49d4-a307-f95c998ddc40"
   },
   "outputs": [
    {
     "name": "stdout",
     "output_type": "stream",
     "text": [
      "Accuracy: 0.9367\n"
     ]
    }
   ],
   "source": [
    "print_test_accuracy()"
   ]
  },
  {
   "cell_type": "code",
   "execution_count": 48,
   "metadata": {
    "colab": {
     "autoexec": {
      "startup": false,
      "wait_interval": 0
     },
     "base_uri": "https://localhost:8080/",
     "height": 184
    },
    "colab_type": "code",
    "executionInfo": {
     "elapsed": 8976,
     "status": "ok",
     "timestamp": 1531304897875,
     "user": {
      "displayName": "Vivek Tiwari",
      "photoUrl": "https://lh3.googleusercontent.com/a/default-user=s128",
      "userId": "114333608223615134400"
     },
     "user_tz": -330
    },
    "id": "4J1N4OFd4cm6",
    "outputId": "fa52fa3b-eefc-47b8-9105-da299aa23d09"
   },
   "outputs": [
    {
     "name": "stdout",
     "output_type": "stream",
     "text": [
      "Iteration: 0 Training Accuracy: 0.94921875\n",
      "Iteration: 100 Training Accuracy: 0.97265625\n",
      "Iteration: 200 Training Accuracy: 0.97265625\n",
      "Iteration: 300 Training Accuracy: 0.97265625\n",
      "Iteration: 400 Training Accuracy: 0.98046875\n",
      "Iteration: 500 Training Accuracy: 0.98828125\n",
      "Iteration: 600 Training Accuracy: 0.984375\n",
      "Iteration: 700 Training Accuracy: 0.9921875\n",
      "Iteration: 800 Training Accuracy: 0.9921875\n",
      "Time Usage: 7.82136344909668\n"
     ]
    }
   ],
   "source": [
    "optimize(900)"
   ]
  },
  {
   "cell_type": "code",
   "execution_count": 52,
   "metadata": {
    "colab": {
     "autoexec": {
      "startup": false,
      "wait_interval": 0
     },
     "base_uri": "https://localhost:8080/",
     "height": 295
    },
    "colab_type": "code",
    "executionInfo": {
     "elapsed": 1642,
     "status": "ok",
     "timestamp": 1531304994270,
     "user": {
      "displayName": "Vivek Tiwari",
      "photoUrl": "https://lh3.googleusercontent.com/a/default-user=s128",
      "userId": "114333608223615134400"
     },
     "user_tz": -330
    },
    "id": "KK8u8O0D4kkI",
    "outputId": "78da0d36-5042-4738-c3fd-bff847f78d3c"
   },
   "outputs": [
    {
     "name": "stdout",
     "output_type": "stream",
     "text": [
      "Accuracy: 0.9874\n",
      "Example errors: \n"
     ]
    },
    {
     "data": {
      "image/png": "[encoded data removed]",
      "text/plain": [
       "<matplotlib.figure.Figure at 0x7fc5a0ca77b8>"
      ]
     },
     "metadata": {
      "tags": []
     },
     "output_type": "display_data"
    }
   ],
   "source": [
    "print_test_accuracy(show_example_errors=True)"
   ]
  },
  {
   "cell_type": "code",
   "execution_count": 54,
   "metadata": {
    "colab": {
     "autoexec": {
      "startup": false,
      "wait_interval": 0
     },
     "base_uri": "https://localhost:8080/",
     "height": 184
    },
    "colab_type": "code",
    "executionInfo": {
     "elapsed": 76746,
     "status": "ok",
     "timestamp": 1531305104789,
     "user": {
      "displayName": "Vivek Tiwari",
      "photoUrl": "https://lh3.googleusercontent.com/a/default-user=s128",
      "userId": "114333608223615134400"
     },
     "user_tz": -330
    },
    "id": "2guEOZAz4mtI",
    "outputId": "5a0696be-2860-4a64-a633-c5de612af85b"
   },
   "outputs": [
    {
     "name": "stdout",
     "output_type": "stream",
     "text": [
      "Iteration: 0 Training Accuracy: 0.98828125\n",
      "Iteration: 1000 Training Accuracy: 0.9921875\n",
      "Iteration: 2000 Training Accuracy: 0.99609375\n",
      "Iteration: 3000 Training Accuracy: 1.0\n",
      "Iteration: 4000 Training Accuracy: 1.0\n",
      "Iteration: 5000 Training Accuracy: 1.0\n",
      "Iteration: 6000 Training Accuracy: 1.0\n",
      "Iteration: 7000 Training Accuracy: 1.0\n",
      "Iteration: 8000 Training Accuracy: 1.0\n",
      "Time Usage: 75.50678610801697\n"
     ]
    }
   ],
   "source": [
    "optimize(9000)"
   ]
  },
  {
   "cell_type": "code",
   "execution_count": 55,
   "metadata": {
    "colab": {
     "autoexec": {
      "startup": false,
      "wait_interval": 0
     },
     "base_uri": "https://localhost:8080/",
     "height": 773
    },
    "colab_type": "code",
    "executionInfo": {
     "elapsed": 2185,
     "status": "ok",
     "timestamp": 1531305107056,
     "user": {
      "displayName": "Vivek Tiwari",
      "photoUrl": "https://lh3.googleusercontent.com/a/default-user=s128",
      "userId": "114333608223615134400"
     },
     "user_tz": -330
    },
    "id": "RJie6ZG35Gh3",
    "outputId": "7ce789bb-99e4-45f0-ef0a-3dcb44a07d9a"
   },
   "outputs": [
    {
     "name": "stdout",
     "output_type": "stream",
     "text": [
      "Accuracy: 0.9918\n",
      "Example errors: \n"
     ]
    },
    {
     "data": {
      "image/png": "[encoded data removed]",
      "text/plain": [
       "<matplotlib.figure.Figure at 0x7fc5a0d51eb8>"
      ]
     },
     "metadata": {
      "tags": []
     },
     "output_type": "display_data"
    },
    {
     "name": "stdout",
     "output_type": "stream",
     "text": [
      "Confusion Matrix: \n",
      "[[ 976    0    1    1    0    1    0    0    1    0]\n",
      " [   0 1132    1    0    0    0    1    1    0    0]\n",
      " [   1    0 1023    2    2    0    0    3    1    0]\n",
      " [   0    0    0 1006    0    3    0    0    1    0]\n",
      " [   0    0    2    0  974    0    1    0    1    4]\n",
      " [   2    0    0    7    0  881    1    0    0    1]\n",
      " [   3    2    0    0    3    3  945    0    2    0]\n",
      " [   0    1    5    0    0    0    0 1021    0    1]\n",
      " [   3    0    2    2    0    2    0    0  962    3]\n",
      " [   0    0    0    1    5    2    0    3    0  998]]\n"
     ]
    },
    {
     "data": {
      "image/png": "[encoded data removed]",
      "text/plain": [
       "<matplotlib.figure.Figure at 0x7fc5a0c78198>"
      ]
     },
     "metadata": {
      "tags": []
     },
     "output_type": "display_data"
    }
   ],
   "source": [
    "print_test_accuracy(show_example_errors=True,show_confusion_matrix=True)"
   ]
  },
  {
   "cell_type": "code",
   "execution_count": 0,
   "metadata": {
    "colab": {
     "autoexec": {
      "startup": false,
      "wait_interval": 0
     }
    },
    "colab_type": "code",
    "id": "7ZHwTYxS5SmX"
   },
   "outputs": [],
   "source": []
  }
 ],
 "metadata": {
  "accelerator": "GPU",
  "colab": {
   "collapsed_sections": [],
   "default_view": {},
   "name": "03B_layers.ipynb",
   "provenance": [],
   "version": "0.3.2",
   "views": {}
  },
  "kernelspec": {
   "display_name": "Python 3",
   "language": "python",
   "name": "python3"
  },
  "language_info": {
   "codemirror_mode": {
    "name": "ipython",
    "version": 3
   },
   "file_extension": ".py",
   "mimetype": "text/x-python",
   "name": "python",
   "nbconvert_exporter": "python",
   "pygments_lexer": "ipython3",
   "version": "3.6.4"
  }
 },
 "nbformat": 4,
 "nbformat_minor": 1
}
