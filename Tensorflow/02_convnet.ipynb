{
 "cells": [
  {
   "cell_type": "markdown",
   "metadata": {
    "colab_type": "text",
    "id": "Uk4_o_LmdE-m"
   },
   "source": [
    "*Performed on Google Colab*\n",
    "\n",
    "**Convolutional Neural Network**"
   ]
  },
  {
   "cell_type": "code",
   "execution_count": 0,
   "metadata": {
    "colab": {
     "autoexec": {
      "startup": false,
      "wait_interval": 0
     }
    },
    "colab_type": "code",
    "id": "vKeavzuQcqth"
   },
   "outputs": [],
   "source": [
    "import numpy as np\n",
    "import tensorflow as tf\n",
    "import matplotlib.pyplot as plt\n",
    "from sklearn.metrics import confusion_matrix\n",
    "import time\n",
    "import math\n",
    "from datetime import timedelta\n",
    "\n",
    "%matplotlib inline"
   ]
  },
  {
   "cell_type": "code",
   "execution_count": 50,
   "metadata": {
    "colab": {
     "autoexec": {
      "startup": false,
      "wait_interval": 0
     },
     "base_uri": "https://localhost:8080/",
     "height": 33
    },
    "colab_type": "code",
    "executionInfo": {
     "elapsed": 1205,
     "status": "ok",
     "timestamp": 1531164510272,
     "user": {
      "displayName": "Vivek Tiwari",
      "photoUrl": "https://lh3.googleusercontent.com/a/default-user=s128",
      "userId": "114333608223615134400"
     },
     "user_tz": 420
    },
    "id": "TK5Za4yxexTc",
    "outputId": "b8dd7b64-a679-42ff-c1d4-51852a356523"
   },
   "outputs": [
    {
     "data": {
      "text/plain": [
       "'1.9.0-rc2'"
      ]
     },
     "execution_count": 50,
     "metadata": {
      "tags": []
     },
     "output_type": "execute_result"
    }
   ],
   "source": [
    "tf.__version__"
   ]
  },
  {
   "cell_type": "markdown",
   "metadata": {
    "colab_type": "text",
    "id": "26UklagXfgkn"
   },
   "source": [
    "**Configuration of  Model**"
   ]
  },
  {
   "cell_type": "code",
   "execution_count": 0,
   "metadata": {
    "colab": {
     "autoexec": {
      "startup": false,
      "wait_interval": 0
     }
    },
    "colab_type": "code",
    "id": "_2NlOJAXe_LR"
   },
   "outputs": [],
   "source": [
    "#Layer 1\n",
    "f1 = 5\n",
    "n_filter_1 = 16\n",
    "#Layer 2\n",
    "f2 = 5\n",
    "n_filter_2 = 36\n",
    "#Fully Connected Layer\n",
    "neurons = 128"
   ]
  },
  {
   "cell_type": "markdown",
   "metadata": {
    "colab_type": "text",
    "id": "NSrFTg3cgGQc"
   },
   "source": [
    "**Load the data**"
   ]
  },
  {
   "cell_type": "code",
   "execution_count": 52,
   "metadata": {
    "colab": {
     "autoexec": {
      "startup": false,
      "wait_interval": 0
     },
     "base_uri": "https://localhost:8080/",
     "height": 84
    },
    "colab_type": "code",
    "executionInfo": {
     "elapsed": 1230,
     "status": "ok",
     "timestamp": 1531164513637,
     "user": {
      "displayName": "Vivek Tiwari",
      "photoUrl": "https://lh3.googleusercontent.com/a/default-user=s128",
      "userId": "114333608223615134400"
     },
     "user_tz": 420
    },
    "id": "ekNRceLHgEbl",
    "outputId": "6e17fadb-b156-400d-d5e4-37efedba20df"
   },
   "outputs": [
    {
     "name": "stdout",
     "output_type": "stream",
     "text": [
      "Extracting data/MNIST/train-images-idx3-ubyte.gz\n",
      "Extracting data/MNIST/train-labels-idx1-ubyte.gz\n",
      "Extracting data/MNIST/t10k-images-idx3-ubyte.gz\n",
      "Extracting data/MNIST/t10k-labels-idx1-ubyte.gz\n"
     ]
    }
   ],
   "source": [
    "from tensorflow.examples.tutorials.mnist import input_data\n",
    "data = input_data.read_data_sets('data/MNIST/',one_hot=True)"
   ]
  },
  {
   "cell_type": "code",
   "execution_count": 53,
   "metadata": {
    "colab": {
     "autoexec": {
      "startup": false,
      "wait_interval": 0
     },
     "base_uri": "https://localhost:8080/",
     "height": 67
    },
    "colab_type": "code",
    "executionInfo": {
     "elapsed": 1839,
     "status": "ok",
     "timestamp": 1531164516064,
     "user": {
      "displayName": "Vivek Tiwari",
      "photoUrl": "https://lh3.googleusercontent.com/a/default-user=s128",
      "userId": "114333608223615134400"
     },
     "user_tz": 420
    },
    "id": "iROgJ1ErgXwt",
    "outputId": "e9fa6256-d185-4cef-af1a-be6d6bf59dc3"
   },
   "outputs": [
    {
     "name": "stdout",
     "output_type": "stream",
     "text": [
      "Size of training data: 55000\n",
      "Size of test data: 10000\n",
      "Size of validation data: 5000\n"
     ]
    }
   ],
   "source": [
    "#Printing the size of the various datasets\n",
    "print(\"Size of training data: \"+str(len(data.train.labels)))\n",
    "print(\"Size of test data: \"+str(len(data.test.labels)))\n",
    "print(\"Size of validation data: \"+str(len(data.validation.labels)))"
   ]
  },
  {
   "cell_type": "code",
   "execution_count": 0,
   "metadata": {
    "colab": {
     "autoexec": {
      "startup": false,
      "wait_interval": 0
     }
    },
    "colab_type": "code",
    "id": "Ho4FCk6hg7yC"
   },
   "outputs": [],
   "source": [
    "data.test.cls = np.argmax(data.test.labels,axis=1)"
   ]
  },
  {
   "cell_type": "markdown",
   "metadata": {
    "colab_type": "text",
    "id": "Gua_ornzhFgf"
   },
   "source": [
    "**Data Dimension**"
   ]
  },
  {
   "cell_type": "code",
   "execution_count": 0,
   "metadata": {
    "colab": {
     "autoexec": {
      "startup": false,
      "wait_interval": 0
     }
    },
    "colab_type": "code",
    "id": "gVsl-mMlhDcJ"
   },
   "outputs": [],
   "source": [
    "img_size = 28\n",
    "img_shape = (img_size,img_size)\n",
    "img_flat_size = img_size * img_size\n",
    "#All the images are the gray scale images. Therefore, a single channel.\n",
    "n_channels = 1\n",
    "n_classes = 10"
   ]
  },
  {
   "cell_type": "markdown",
   "metadata": {
    "colab_type": "text",
    "id": "6ML-g9M9hlt8"
   },
   "source": [
    "**Helper Function for plotting images**"
   ]
  },
  {
   "cell_type": "code",
   "execution_count": 0,
   "metadata": {
    "colab": {
     "autoexec": {
      "startup": false,
      "wait_interval": 0
     }
    },
    "colab_type": "code",
    "id": "N0_lHv3ihksJ"
   },
   "outputs": [],
   "source": [
    "def plot_images(images,y_true,y_pred=None):\n",
    "  assert len(images) == len(y_true) == 9\n",
    "  \n",
    "  fig, axes = plt.subplots(3,3)\n",
    "  fig.subplots_adjust(hspace=0.5,wspace=0.5)\n",
    "  \n",
    "  for indx, ax in enumerate(axes.flat):\n",
    "    ax.imshow(images[indx].reshape(img_shape),cmap=plt.cm.gray_r)\n",
    "    \n",
    "    if y_pred is None:\n",
    "      xlabel = 'True: ' + str(y_true[indx])\n",
    "    else:\n",
    "      xlabel = 'True: ' + str(y_true[indx]) + '::Predicted: ' + str(y_pred[indx])\n",
    "    \n",
    "    ax.set_xlabel(xlabel)\n",
    "    \n",
    "    ax.set_xticks([])\n",
    "    ax.set_yticks([])\n",
    "    \n",
    "  plt.show()"
   ]
  },
  {
   "cell_type": "markdown",
   "metadata": {
    "colab_type": "text",
    "id": "30JqBHbojpqL"
   },
   "source": [
    "**Plotting few images**"
   ]
  },
  {
   "cell_type": "code",
   "execution_count": 57,
   "metadata": {
    "colab": {
     "autoexec": {
      "startup": false,
      "wait_interval": 0
     },
     "base_uri": "https://localhost:8080/",
     "height": 262
    },
    "colab_type": "code",
    "executionInfo": {
     "elapsed": 1152,
     "status": "ok",
     "timestamp": 1531164522469,
     "user": {
      "displayName": "Vivek Tiwari",
      "photoUrl": "https://lh3.googleusercontent.com/a/default-user=s128",
      "userId": "114333608223615134400"
     },
     "user_tz": 420
    },
    "id": "R1MqCn_EjnoF",
    "outputId": "ece482aa-e12c-40f9-9390-c0a8f2a4be07"
   },
   "outputs": [
    {
     "data": {
      "image/png": "[encoded data removed]",
      "text/plain": [
       "<matplotlib.figure.Figure at 0x7f3fede48908>"
      ]
     },
     "metadata": {
      "tags": []
     },
     "output_type": "display_data"
    }
   ],
   "source": [
    "images = data.test.images[:9]\n",
    "y_true = data.test.cls[:9]\n",
    "\n",
    "plot_images(images,y_true)"
   ]
  },
  {
   "cell_type": "markdown",
   "metadata": {
    "colab_type": "text",
    "id": "XwC5vR92kS9O"
   },
   "source": [
    "**TensorFlow Graph**"
   ]
  },
  {
   "cell_type": "code",
   "execution_count": 0,
   "metadata": {
    "colab": {
     "autoexec": {
      "startup": false,
      "wait_interval": 0
     }
    },
    "colab_type": "code",
    "id": "YKeI_roLj_e1"
   },
   "outputs": [],
   "source": [
    "def new_weights(shape):\n",
    "  return tf.Variable(tf.truncated_normal(shape,stddev=0.05))\n",
    "\n",
    "def new_baises(length):\n",
    "  return tf.Variable(tf.constant(0.,shape=[length,]))"
   ]
  },
  {
   "cell_type": "markdown",
   "metadata": {
    "colab_type": "text",
    "id": "Yhvz9meQozS3"
   },
   "source": [
    "**Helper Function for Convolutional Layer**"
   ]
  },
  {
   "cell_type": "code",
   "execution_count": 0,
   "metadata": {
    "colab": {
     "autoexec": {
      "startup": false,
      "wait_interval": 0
     }
    },
    "colab_type": "code",
    "id": "TkZd_L0-nD7X"
   },
   "outputs": [],
   "source": [
    "def new_conv_layer(input,n_input_channels,filter_size,n_filters,use_pooling=True):\n",
    "  shape = [filter_size,filter_size,n_input_channels,n_filters]\n",
    "  \n",
    "  weights = new_weights(shape)\n",
    "  baises = new_baises(n_filters)\n",
    "  \n",
    "  layer = tf.nn.conv2d(input=input,filter=weights,strides=[1,1,1,1],padding='SAME')\n",
    "  \n",
    "  layer = layer + baises\n",
    "  \n",
    "  if use_pooling:\n",
    "    layer = tf.nn.max_pool(value=layer,ksize=[1,2,2,1],strides=[1,2,2,1],padding='SAME')\n",
    "  \n",
    "  layer = tf.nn.relu(layer)\n",
    "  \n",
    "  return layer, weights"
   ]
  },
  {
   "cell_type": "markdown",
   "metadata": {
    "colab_type": "text",
    "id": "RV1xyosgr09g"
   },
   "source": [
    "**Helper Function for flattening a layer**"
   ]
  },
  {
   "cell_type": "code",
   "execution_count": 0,
   "metadata": {
    "colab": {
     "autoexec": {
      "startup": false,
      "wait_interval": 0
     }
    },
    "colab_type": "code",
    "id": "sVL1zJhOrtyv"
   },
   "outputs": [],
   "source": [
    "def flatten_layer(layer):\n",
    "  layer_shape = layer.get_shape()\n",
    "  num_features = layer_shape[1:].num_elements()\n",
    "  \n",
    "  layer_flat = tf.reshape(layer,[-1,num_features])\n",
    "  return layer_flat, num_features"
   ]
  },
  {
   "cell_type": "markdown",
   "metadata": {
    "colab_type": "text",
    "id": "dKgZD4Zqtteu"
   },
   "source": [
    "**Helper Function for fully connected layer**"
   ]
  },
  {
   "cell_type": "code",
   "execution_count": 0,
   "metadata": {
    "colab": {
     "autoexec": {
      "startup": false,
      "wait_interval": 0
     }
    },
    "colab_type": "code",
    "id": "3Oy8_lRXtqyR"
   },
   "outputs": [],
   "source": [
    "def new_fc_layer(input,num_inputs,num_outputs,use_relu=True):\n",
    "  weights = new_weights(shape=[num_inputs,num_outputs])\n",
    "  baises = new_baises(num_outputs)\n",
    "  \n",
    "  layer = tf.matmul(input,weights) + baises\n",
    "  \n",
    "  if use_relu:\n",
    "    layer = tf.nn.relu(layer)\n",
    "    \n",
    "  return layer"
   ]
  },
  {
   "cell_type": "markdown",
   "metadata": {
    "colab_type": "text",
    "id": "AOlhFL6puieE"
   },
   "source": [
    "**Placeholder Variables**"
   ]
  },
  {
   "cell_type": "code",
   "execution_count": 0,
   "metadata": {
    "colab": {
     "autoexec": {
      "startup": false,
      "wait_interval": 0
     }
    },
    "colab_type": "code",
    "id": "v705mI99uheW"
   },
   "outputs": [],
   "source": [
    "X = tf.placeholder(tf.float32,shape=[None,img_flat_size])\n",
    "X_image = tf.reshape(X,[-1,img_size,img_size,n_channels])\n",
    "\n",
    "y = tf.placeholder(tf.float32,shape=[None,n_classes])\n",
    "y_cls = tf.argmax(y,axis=1)"
   ]
  },
  {
   "cell_type": "markdown",
   "metadata": {
    "colab_type": "text",
    "id": "lsb9C-kgvabM"
   },
   "source": [
    "**Convolutional Layer 1**"
   ]
  },
  {
   "cell_type": "code",
   "execution_count": 0,
   "metadata": {
    "colab": {
     "autoexec": {
      "startup": false,
      "wait_interval": 0
     }
    },
    "colab_type": "code",
    "id": "XC0Ub_8KvXvL"
   },
   "outputs": [],
   "source": [
    "layer1, weight1 = new_conv_layer(X_image,n_channels,f1,n_filter_1,True)"
   ]
  },
  {
   "cell_type": "code",
   "execution_count": 64,
   "metadata": {
    "colab": {
     "autoexec": {
      "startup": false,
      "wait_interval": 0
     },
     "base_uri": "https://localhost:8080/",
     "height": 33
    },
    "colab_type": "code",
    "executionInfo": {
     "elapsed": 1184,
     "status": "ok",
     "timestamp": 1531164551267,
     "user": {
      "displayName": "Vivek Tiwari",
      "photoUrl": "https://lh3.googleusercontent.com/a/default-user=s128",
      "userId": "114333608223615134400"
     },
     "user_tz": 420
    },
    "id": "AuvALxwbwcbc",
    "outputId": "ce281b05-c154-4f66-efd7-3ed82eca72d7"
   },
   "outputs": [
    {
     "data": {
      "text/plain": [
       "<tf.Tensor 'Relu_3:0' shape=(?, 14, 14, 16) dtype=float32>"
      ]
     },
     "execution_count": 64,
     "metadata": {
      "tags": []
     },
     "output_type": "execute_result"
    }
   ],
   "source": [
    "layer1"
   ]
  },
  {
   "cell_type": "markdown",
   "metadata": {
    "colab_type": "text",
    "id": "d-QlRtudx0vx"
   },
   "source": [
    "**Convolutinoal Layer 2**"
   ]
  },
  {
   "cell_type": "code",
   "execution_count": 0,
   "metadata": {
    "colab": {
     "autoexec": {
      "startup": false,
      "wait_interval": 0
     }
    },
    "colab_type": "code",
    "id": "CSFZxVLYwlbP"
   },
   "outputs": [],
   "source": [
    "layer2, weight2 = new_conv_layer(layer1,n_filter_1,f2,n_filter_2,True)"
   ]
  },
  {
   "cell_type": "code",
   "execution_count": 66,
   "metadata": {
    "colab": {
     "autoexec": {
      "startup": false,
      "wait_interval": 0
     },
     "base_uri": "https://localhost:8080/",
     "height": 33
    },
    "colab_type": "code",
    "executionInfo": {
     "elapsed": 1161,
     "status": "ok",
     "timestamp": 1531164554843,
     "user": {
      "displayName": "Vivek Tiwari",
      "photoUrl": "https://lh3.googleusercontent.com/a/default-user=s128",
      "userId": "114333608223615134400"
     },
     "user_tz": 420
    },
    "id": "w8cyBmmmyBrq",
    "outputId": "248cbe70-384b-4826-9ba0-e194a3092217"
   },
   "outputs": [
    {
     "data": {
      "text/plain": [
       "<tf.Tensor 'Relu_4:0' shape=(?, 7, 7, 36) dtype=float32>"
      ]
     },
     "execution_count": 66,
     "metadata": {
      "tags": []
     },
     "output_type": "execute_result"
    }
   ],
   "source": [
    "layer2"
   ]
  },
  {
   "cell_type": "markdown",
   "metadata": {
    "colab_type": "text",
    "id": "lU75LRLDybOu"
   },
   "source": [
    "**Flatten Layer**"
   ]
  },
  {
   "cell_type": "code",
   "execution_count": 0,
   "metadata": {
    "colab": {
     "autoexec": {
      "startup": false,
      "wait_interval": 0
     }
    },
    "colab_type": "code",
    "id": "fJriXQV8yZdu"
   },
   "outputs": [],
   "source": [
    "layer_flat, num_features = flatten_layer(layer2)"
   ]
  },
  {
   "cell_type": "code",
   "execution_count": 68,
   "metadata": {
    "colab": {
     "autoexec": {
      "startup": false,
      "wait_interval": 0
     },
     "base_uri": "https://localhost:8080/",
     "height": 33
    },
    "colab_type": "code",
    "executionInfo": {
     "elapsed": 1109,
     "status": "ok",
     "timestamp": 1531164557992,
     "user": {
      "displayName": "Vivek Tiwari",
      "photoUrl": "https://lh3.googleusercontent.com/a/default-user=s128",
      "userId": "114333608223615134400"
     },
     "user_tz": 420
    },
    "id": "86RS2E0-ylo7",
    "outputId": "744784b3-31c0-4599-be08-873b2e0e606e"
   },
   "outputs": [
    {
     "data": {
      "text/plain": [
       "<tf.Tensor 'Reshape_3:0' shape=(?, 1764) dtype=float32>"
      ]
     },
     "execution_count": 68,
     "metadata": {
      "tags": []
     },
     "output_type": "execute_result"
    }
   ],
   "source": [
    "layer_flat"
   ]
  },
  {
   "cell_type": "code",
   "execution_count": 69,
   "metadata": {
    "colab": {
     "autoexec": {
      "startup": false,
      "wait_interval": 0
     },
     "base_uri": "https://localhost:8080/",
     "height": 33
    },
    "colab_type": "code",
    "executionInfo": {
     "elapsed": 1064,
     "status": "ok",
     "timestamp": 1531164559439,
     "user": {
      "displayName": "Vivek Tiwari",
      "photoUrl": "https://lh3.googleusercontent.com/a/default-user=s128",
      "userId": "114333608223615134400"
     },
     "user_tz": 420
    },
    "id": "4o4RRZbuynWn",
    "outputId": "0b65fee6-17b7-44c0-c8f5-b388c44f33a2"
   },
   "outputs": [
    {
     "data": {
      "text/plain": [
       "1764"
      ]
     },
     "execution_count": 69,
     "metadata": {
      "tags": []
     },
     "output_type": "execute_result"
    }
   ],
   "source": [
    "num_features"
   ]
  },
  {
   "cell_type": "markdown",
   "metadata": {
    "colab_type": "text",
    "id": "CQSLpMqZyqnk"
   },
   "source": [
    "**Fully Connected Layer 1**"
   ]
  },
  {
   "cell_type": "code",
   "execution_count": 0,
   "metadata": {
    "colab": {
     "autoexec": {
      "startup": false,
      "wait_interval": 0
     }
    },
    "colab_type": "code",
    "id": "rrKYypmsypJG"
   },
   "outputs": [],
   "source": [
    "layer_fc1 = new_fc_layer(layer_flat,num_features,neurons,use_relu='True')"
   ]
  },
  {
   "cell_type": "code",
   "execution_count": 71,
   "metadata": {
    "colab": {
     "autoexec": {
      "startup": false,
      "wait_interval": 0
     },
     "base_uri": "https://localhost:8080/",
     "height": 33
    },
    "colab_type": "code",
    "executionInfo": {
     "elapsed": 842,
     "status": "ok",
     "timestamp": 1531164562229,
     "user": {
      "displayName": "Vivek Tiwari",
      "photoUrl": "https://lh3.googleusercontent.com/a/default-user=s128",
      "userId": "114333608223615134400"
     },
     "user_tz": 420
    },
    "id": "Wv6gIMq7zBKs",
    "outputId": "7842a1a1-ee53-4f29-bcf0-985c1b5c50ea"
   },
   "outputs": [
    {
     "data": {
      "text/plain": [
       "<tf.Tensor 'Relu_5:0' shape=(?, 128) dtype=float32>"
      ]
     },
     "execution_count": 71,
     "metadata": {
      "tags": []
     },
     "output_type": "execute_result"
    }
   ],
   "source": [
    "layer_fc1"
   ]
  },
  {
   "cell_type": "markdown",
   "metadata": {
    "colab_type": "text",
    "id": "T4Q2lyrYzP5c"
   },
   "source": [
    "**Fully Connected Layer 2**"
   ]
  },
  {
   "cell_type": "code",
   "execution_count": 0,
   "metadata": {
    "colab": {
     "autoexec": {
      "startup": false,
      "wait_interval": 0
     }
    },
    "colab_type": "code",
    "id": "caBEyQOlzOxz"
   },
   "outputs": [],
   "source": [
    "layer_fc2 = new_fc_layer(layer_fc1,neurons,n_classes,False)"
   ]
  },
  {
   "cell_type": "code",
   "execution_count": 73,
   "metadata": {
    "colab": {
     "autoexec": {
      "startup": false,
      "wait_interval": 0
     },
     "base_uri": "https://localhost:8080/",
     "height": 33
    },
    "colab_type": "code",
    "executionInfo": {
     "elapsed": 802,
     "status": "ok",
     "timestamp": 1531164565268,
     "user": {
      "displayName": "Vivek Tiwari",
      "photoUrl": "https://lh3.googleusercontent.com/a/default-user=s128",
      "userId": "114333608223615134400"
     },
     "user_tz": 420
    },
    "id": "Huir_SRVzgLT",
    "outputId": "e02189af-2e73-42f6-a012-b767ccefe943"
   },
   "outputs": [
    {
     "data": {
      "text/plain": [
       "<tf.Tensor 'add_7:0' shape=(?, 10) dtype=float32>"
      ]
     },
     "execution_count": 73,
     "metadata": {
      "tags": []
     },
     "output_type": "execute_result"
    }
   ],
   "source": [
    "layer_fc2"
   ]
  },
  {
   "cell_type": "markdown",
   "metadata": {
    "colab_type": "text",
    "id": "slbArcMkzjdP"
   },
   "source": [
    "**Predicted Class**"
   ]
  },
  {
   "cell_type": "code",
   "execution_count": 0,
   "metadata": {
    "colab": {
     "autoexec": {
      "startup": false,
      "wait_interval": 0
     }
    },
    "colab_type": "code",
    "id": "Jjjtly3mzhfd"
   },
   "outputs": [],
   "source": [
    "y_pred = tf.nn.softmax(layer_fc2)\n",
    "y_pred_cls = tf.argmax(y_pred,axis=1)"
   ]
  },
  {
   "cell_type": "markdown",
   "metadata": {
    "colab_type": "text",
    "id": "IgOwtfOazvh5"
   },
   "source": [
    "**Cost to be optimized**"
   ]
  },
  {
   "cell_type": "code",
   "execution_count": 0,
   "metadata": {
    "colab": {
     "autoexec": {
      "startup": false,
      "wait_interval": 0
     }
    },
    "colab_type": "code",
    "id": "TwCeQwlpzuxJ"
   },
   "outputs": [],
   "source": [
    "cost = tf.reduce_mean(tf.nn.softmax_cross_entropy_with_logits_v2(logits=layer_fc2,labels=y))"
   ]
  },
  {
   "cell_type": "markdown",
   "metadata": {
    "colab_type": "text",
    "id": "NGMxsbFn0MJ-"
   },
   "source": [
    "**Optimization Method**"
   ]
  },
  {
   "cell_type": "code",
   "execution_count": 0,
   "metadata": {
    "colab": {
     "autoexec": {
      "startup": false,
      "wait_interval": 0
     }
    },
    "colab_type": "code",
    "id": "IOI1DK2v0K4m"
   },
   "outputs": [],
   "source": [
    "optimizer = tf.train.AdamOptimizer(learning_rate=1e-3).minimize(cost)"
   ]
  },
  {
   "cell_type": "code",
   "execution_count": 0,
   "metadata": {
    "colab": {
     "autoexec": {
      "startup": false,
      "wait_interval": 0
     }
    },
    "colab_type": "code",
    "id": "aRV8Tk500bmR"
   },
   "outputs": [],
   "source": [
    "correct_prediction = tf.equal(y_pred_cls,y_cls)\n",
    "accuracy = tf.reduce_mean(tf.cast(correct_prediction,tf.float32))"
   ]
  },
  {
   "cell_type": "code",
   "execution_count": 0,
   "metadata": {
    "colab": {
     "autoexec": {
      "startup": false,
      "wait_interval": 0
     }
    },
    "colab_type": "code",
    "id": "TPSMIzVf1AFG"
   },
   "outputs": [],
   "source": [
    "sess = tf.Session()\n",
    "sess.run(tf.global_variables_initializer())"
   ]
  },
  {
   "cell_type": "code",
   "execution_count": 0,
   "metadata": {
    "colab": {
     "autoexec": {
      "startup": false,
      "wait_interval": 0
     }
    },
    "colab_type": "code",
    "id": "dPnIwMCw1H4u"
   },
   "outputs": [],
   "source": [
    "batch_size = 256"
   ]
  },
  {
   "cell_type": "code",
   "execution_count": 0,
   "metadata": {
    "colab": {
     "autoexec": {
      "startup": false,
      "wait_interval": 0
     }
    },
    "colab_type": "code",
    "id": "UZWznuqh1K6U"
   },
   "outputs": [],
   "source": [
    "total_iterations = 0\n",
    "\n",
    "def optimize(n_iterations):\n",
    "  global total_iterations\n",
    "  \n",
    "  start = time.time()\n",
    "  for i in range(n_iterations):\n",
    "    x_batch, y_batch = data.train.next_batch(batch_size)\n",
    "    feed_dict = {X:x_batch,y:y_batch}\n",
    "    \n",
    "    sess.run(optimizer,feed_dict=feed_dict)\n",
    "    \n",
    "    if i%1000 == 0:\n",
    "      acc = sess.run(accuracy,feed_dict=feed_dict)\n",
    "      print('Iteration: '+ str(i) + ' Training Accuracy: '+  str(acc))\n",
    "  total_iterations += n_iterations\n",
    "  end = time.time()\n",
    "  \n",
    "  print('Time Usage: '+ str(end-start))"
   ]
  },
  {
   "cell_type": "markdown",
   "metadata": {
    "colab_type": "text",
    "id": "bCJqULD_2jW0"
   },
   "source": [
    "**Helper Function to plot example errors**"
   ]
  },
  {
   "cell_type": "code",
   "execution_count": 0,
   "metadata": {
    "colab": {
     "autoexec": {
      "startup": false,
      "wait_interval": 0
     }
    },
    "colab_type": "code",
    "id": "58FeTOVk2cI0"
   },
   "outputs": [],
   "source": [
    "def plot_example_errors(y_pred,correct):\n",
    "  incorrect = (correct == False)\n",
    "  \n",
    "  images = data.test.images[incorrect]\n",
    "  y_pred = y_pred[incorrect]\n",
    "  y_true = data.test.cls[incorrect]\n",
    "  \n",
    "  plot_images(images[:9],y_true[:9],y_pred[:9])"
   ]
  },
  {
   "cell_type": "markdown",
   "metadata": {
    "colab_type": "text",
    "id": "tde3UOVU2tYq"
   },
   "source": [
    "**Helper Function for Confusion Matrix**"
   ]
  },
  {
   "cell_type": "code",
   "execution_count": 0,
   "metadata": {
    "colab": {
     "autoexec": {
      "startup": false,
      "wait_interval": 0
     }
    },
    "colab_type": "code",
    "id": "lTZIHhbO2sEJ"
   },
   "outputs": [],
   "source": [
    "def print_confusion_matrix(y_pred):\n",
    "  y_true = data.test.cls\n",
    "  \n",
    "  cm = confusion_matrix(y_true=y_true,y_pred=y_pred)\n",
    "  \n",
    "  print(cm)\n",
    "  \n",
    "  #Plot Confusion Matrix as an image\n",
    "  plt.imshow(cm,interpolation='nearest',cmap=plt.cm.Spectral)\n",
    "  \n",
    "  plt.tight_layout()\n",
    "  plt.colorbar()\n",
    "  tick_marks = np.arange(n_classes)\n",
    "  plt.xticks(tick_marks,range(n_classes))\n",
    "  plt.yticks(tick_marks,range(n_classes))\n",
    "  plt.xlabel('Predicted')\n",
    "  plt.ylabel('True')\n",
    "  \n",
    "  plt.show()"
   ]
  },
  {
   "cell_type": "markdown",
   "metadata": {
    "colab_type": "text",
    "id": "LUUFRAeh3hRV"
   },
   "source": [
    "**Helper Function for showing performance**"
   ]
  },
  {
   "cell_type": "code",
   "execution_count": 0,
   "metadata": {
    "colab": {
     "autoexec": {
      "startup": false,
      "wait_interval": 0
     }
    },
    "colab_type": "code",
    "id": "sgv3KMCJ29nA"
   },
   "outputs": [],
   "source": [
    "test_batch_size = 256\n",
    "\n",
    "def print_test_accuracy(show_example_errors=False,show_confusion_matrix=False):\n",
    "  n_test = len(data.test.labels)\n",
    "  \n",
    "  cls_pred = np.zeros(shape=n_test,dtype=np.int)\n",
    "  \n",
    "  i=0\n",
    "  while i < n_test:\n",
    "    j = min(i+test_batch_size,n_test)\n",
    "    \n",
    "    images = data.test.images[i:j]\n",
    "    labels = data.test.labels[i:j]\n",
    "    \n",
    "    feed_dict = {X:images,y:labels}\n",
    "    cls_pred[i:j] = sess.run(y_pred_cls,feed_dict=feed_dict)\n",
    "    \n",
    "    i = j\n",
    "  \n",
    "  cls_true = data.test.cls\n",
    "  correct = cls_true == cls_pred\n",
    "  correct_sum = correct.sum()\n",
    "  acc = float(correct_sum) / n_test\n",
    "  print('Accuracy: '+str(acc))\n",
    "  \n",
    "  if show_example_errors:\n",
    "    print('Example errors: ')\n",
    "    plot_example_errors(cls_pred,correct)\n",
    "    \n",
    "  if show_confusion_matrix:\n",
    "    print('Confusion Matrix: ')\n",
    "    print_confusion_matrix(cls_pred)"
   ]
  },
  {
   "cell_type": "code",
   "execution_count": 84,
   "metadata": {
    "colab": {
     "autoexec": {
      "startup": false,
      "wait_interval": 0
     },
     "base_uri": "https://localhost:8080/",
     "height": 33
    },
    "colab_type": "code",
    "executionInfo": {
     "elapsed": 1147,
     "status": "ok",
     "timestamp": 1531164593532,
     "user": {
      "displayName": "Vivek Tiwari",
      "photoUrl": "https://lh3.googleusercontent.com/a/default-user=s128",
      "userId": "114333608223615134400"
     },
     "user_tz": 420
    },
    "id": "vq7dHOHT_bMV",
    "outputId": "19201ca2-94f5-4d7e-bff7-6f51f1f1fc09"
   },
   "outputs": [
    {
     "name": "stdout",
     "output_type": "stream",
     "text": [
      "Accuracy: 0.1472\n"
     ]
    }
   ],
   "source": [
    "print_test_accuracy()"
   ]
  },
  {
   "cell_type": "markdown",
   "metadata": {
    "colab_type": "text",
    "id": "L_RXrtlND_FX"
   },
   "source": [
    "**Performance after 1 optimization iteration** "
   ]
  },
  {
   "cell_type": "code",
   "execution_count": 85,
   "metadata": {
    "colab": {
     "autoexec": {
      "startup": false,
      "wait_interval": 0
     },
     "base_uri": "https://localhost:8080/",
     "height": 50
    },
    "colab_type": "code",
    "executionInfo": {
     "elapsed": 1279,
     "status": "ok",
     "timestamp": 1531164595072,
     "user": {
      "displayName": "Vivek Tiwari",
      "photoUrl": "https://lh3.googleusercontent.com/a/default-user=s128",
      "userId": "114333608223615134400"
     },
     "user_tz": 420
    },
    "id": "pfRDis1aD4MF",
    "outputId": "142dbe4b-f46b-4a7a-fee7-539774c85f71"
   },
   "outputs": [
    {
     "name": "stdout",
     "output_type": "stream",
     "text": [
      "Iteration: 0 Training Accuracy: 0.234375\n",
      "Time Usage: 0.16850996017456055\n"
     ]
    }
   ],
   "source": [
    "optimize(1)"
   ]
  },
  {
   "cell_type": "code",
   "execution_count": 86,
   "metadata": {
    "colab": {
     "autoexec": {
      "startup": false,
      "wait_interval": 0
     },
     "base_uri": "https://localhost:8080/",
     "height": 33
    },
    "colab_type": "code",
    "executionInfo": {
     "elapsed": 1045,
     "status": "ok",
     "timestamp": 1531164596546,
     "user": {
      "displayName": "Vivek Tiwari",
      "photoUrl": "https://lh3.googleusercontent.com/a/default-user=s128",
      "userId": "114333608223615134400"
     },
     "user_tz": 420
    },
    "id": "utNOHBLfEJXa",
    "outputId": "8755f711-6202-4f29-adc0-88bc4da7750c"
   },
   "outputs": [
    {
     "name": "stdout",
     "output_type": "stream",
     "text": [
      "Accuracy: 0.2075\n"
     ]
    }
   ],
   "source": [
    "print_test_accuracy()"
   ]
  },
  {
   "cell_type": "markdown",
   "metadata": {
    "colab_type": "text",
    "id": "ba-kP1bSERuc"
   },
   "source": [
    "**Performance after 100 optimization iteration** "
   ]
  },
  {
   "cell_type": "code",
   "execution_count": 93,
   "metadata": {
    "colab": {
     "autoexec": {
      "startup": false,
      "wait_interval": 0
     },
     "base_uri": "https://localhost:8080/",
     "height": 50
    },
    "colab_type": "code",
    "executionInfo": {
     "elapsed": 2272,
     "status": "ok",
     "timestamp": 1531164717470,
     "user": {
      "displayName": "Vivek Tiwari",
      "photoUrl": "https://lh3.googleusercontent.com/a/default-user=s128",
      "userId": "114333608223615134400"
     },
     "user_tz": 420
    },
    "id": "frNxitdNENqW",
    "outputId": "ed893c3f-e657-4d61-c78d-db53a7ffa109"
   },
   "outputs": [
    {
     "name": "stdout",
     "output_type": "stream",
     "text": [
      "Iteration: 0 Training Accuracy: 0.9609375\n",
      "Time Usage: 1.1943340301513672\n"
     ]
    }
   ],
   "source": [
    "optimize(100)"
   ]
  },
  {
   "cell_type": "code",
   "execution_count": 94,
   "metadata": {
    "colab": {
     "autoexec": {
      "startup": false,
      "wait_interval": 0
     },
     "base_uri": "https://localhost:8080/",
     "height": 295
    },
    "colab_type": "code",
    "executionInfo": {
     "elapsed": 1917,
     "status": "ok",
     "timestamp": 1531164719592,
     "user": {
      "displayName": "Vivek Tiwari",
      "photoUrl": "https://lh3.googleusercontent.com/a/default-user=s128",
      "userId": "114333608223615134400"
     },
     "user_tz": 420
    },
    "id": "M2ZYQRuoEWfB",
    "outputId": "02ef8cb9-6765-40cd-e308-67ad52ae5d9e"
   },
   "outputs": [
    {
     "name": "stdout",
     "output_type": "stream",
     "text": [
      "Accuracy: 0.9744\n",
      "Example errors: \n"
     ]
    },
    {
     "data": {
      "image/png": "[encoded data removed]",
      "text/plain": [
       "<matplotlib.figure.Figure at 0x7f3f96355358>"
      ]
     },
     "metadata": {
      "tags": []
     },
     "output_type": "display_data"
    }
   ],
   "source": [
    "print_test_accuracy(show_example_errors=True)"
   ]
  },
  {
   "cell_type": "markdown",
   "metadata": {
    "colab_type": "text",
    "id": "saNQSZJzh-w8"
   },
   "source": [
    "**Performance after 1000 optimization iteration** "
   ]
  },
  {
   "cell_type": "code",
   "execution_count": 95,
   "metadata": {
    "colab": {
     "autoexec": {
      "startup": false,
      "wait_interval": 0
     },
     "base_uri": "https://localhost:8080/",
     "height": 201
    },
    "colab_type": "code",
    "executionInfo": {
     "elapsed": 12843,
     "status": "ok",
     "timestamp": 1531164778234,
     "user": {
      "displayName": "Vivek Tiwari",
      "photoUrl": "https://lh3.googleusercontent.com/a/default-user=s128",
      "userId": "114333608223615134400"
     },
     "user_tz": 420
    },
    "id": "4EkhxE65Ebgn",
    "outputId": "9a16ee49-696f-49b6-e003-8c8c1ae2cda8"
   },
   "outputs": [
    {
     "name": "stdout",
     "output_type": "stream",
     "text": [
      "Iteration: 0 Training Accuracy: 0.96875\n",
      "Iteration: 100 Training Accuracy: 0.9765625\n",
      "Iteration: 200 Training Accuracy: 0.97265625\n",
      "Iteration: 300 Training Accuracy: 0.984375\n",
      "Iteration: 400 Training Accuracy: 0.9921875\n",
      "Iteration: 500 Training Accuracy: 0.9765625\n",
      "Iteration: 600 Training Accuracy: 0.9765625\n",
      "Iteration: 700 Training Accuracy: 0.99609375\n",
      "Iteration: 800 Training Accuracy: 0.98828125\n",
      "Iteration: 900 Training Accuracy: 0.9921875\n",
      "Time Usage: 11.813513994216919\n"
     ]
    }
   ],
   "source": [
    "optimize(1000)"
   ]
  },
  {
   "cell_type": "code",
   "execution_count": 96,
   "metadata": {
    "colab": {
     "autoexec": {
      "startup": false,
      "wait_interval": 0
     },
     "base_uri": "https://localhost:8080/",
     "height": 295
    },
    "colab_type": "code",
    "executionInfo": {
     "elapsed": 2376,
     "status": "ok",
     "timestamp": 1531164809501,
     "user": {
      "displayName": "Vivek Tiwari",
      "photoUrl": "https://lh3.googleusercontent.com/a/default-user=s128",
      "userId": "114333608223615134400"
     },
     "user_tz": 420
    },
    "id": "aaRP13bWiCtL",
    "outputId": "0be2f64c-b733-4e0a-cf3e-00c760e6b589"
   },
   "outputs": [
    {
     "name": "stdout",
     "output_type": "stream",
     "text": [
      "Accuracy: 0.9905\n",
      "Example errors: \n"
     ]
    },
    {
     "data": {
      "image/png": "[encoded data removed]",
      "text/plain": [
       "<matplotlib.figure.Figure at 0x7f3fe77e9f28>"
      ]
     },
     "metadata": {
      "tags": []
     },
     "output_type": "display_data"
    }
   ],
   "source": [
    "print_test_accuracy(show_example_errors=True)"
   ]
  },
  {
   "cell_type": "markdown",
   "metadata": {
    "colab_type": "text",
    "id": "JrQIZdjiiSiv"
   },
   "source": [
    "**Performance after 10000 optimization iteration** "
   ]
  },
  {
   "cell_type": "code",
   "execution_count": 97,
   "metadata": {
    "colab": {
     "autoexec": {
      "startup": false,
      "wait_interval": 0
     },
     "base_uri": "https://localhost:8080/",
     "height": 1706
    },
    "colab_type": "code",
    "executionInfo": {
     "elapsed": 118836,
     "status": "ok",
     "timestamp": 1531164966492,
     "user": {
      "displayName": "Vivek Tiwari",
      "photoUrl": "https://lh3.googleusercontent.com/a/default-user=s128",
      "userId": "114333608223615134400"
     },
     "user_tz": 420
    },
    "id": "vRPY4RytiM37",
    "outputId": "b1193f45-f005-4117-b8e8-0af5ea749405"
   },
   "outputs": [
    {
     "name": "stdout",
     "output_type": "stream",
     "text": [
      "Iteration: 0 Training Accuracy: 1.0\n",
      "Iteration: 100 Training Accuracy: 1.0\n",
      "Iteration: 200 Training Accuracy: 1.0\n",
      "Iteration: 300 Training Accuracy: 1.0\n",
      "Iteration: 400 Training Accuracy: 0.9921875\n",
      "Iteration: 500 Training Accuracy: 1.0\n",
      "Iteration: 600 Training Accuracy: 0.99609375\n",
      "Iteration: 700 Training Accuracy: 1.0\n",
      "Iteration: 800 Training Accuracy: 0.99609375\n",
      "Iteration: 900 Training Accuracy: 1.0\n",
      "Iteration: 1000 Training Accuracy: 0.9921875\n",
      "Iteration: 1100 Training Accuracy: 1.0\n",
      "Iteration: 1200 Training Accuracy: 0.99609375\n",
      "Iteration: 1300 Training Accuracy: 1.0\n",
      "Iteration: 1400 Training Accuracy: 1.0\n",
      "Iteration: 1500 Training Accuracy: 1.0\n",
      "Iteration: 1600 Training Accuracy: 1.0\n",
      "Iteration: 1700 Training Accuracy: 1.0\n",
      "Iteration: 1800 Training Accuracy: 1.0\n",
      "Iteration: 1900 Training Accuracy: 0.99609375\n",
      "Iteration: 2000 Training Accuracy: 1.0\n",
      "Iteration: 2100 Training Accuracy: 1.0\n",
      "Iteration: 2200 Training Accuracy: 0.99609375\n",
      "Iteration: 2300 Training Accuracy: 1.0\n",
      "Iteration: 2400 Training Accuracy: 1.0\n",
      "Iteration: 2500 Training Accuracy: 1.0\n",
      "Iteration: 2600 Training Accuracy: 1.0\n",
      "Iteration: 2700 Training Accuracy: 1.0\n",
      "Iteration: 2800 Training Accuracy: 0.99609375\n",
      "Iteration: 2900 Training Accuracy: 1.0\n",
      "Iteration: 3000 Training Accuracy: 1.0\n",
      "Iteration: 3100 Training Accuracy: 1.0\n",
      "Iteration: 3200 Training Accuracy: 1.0\n",
      "Iteration: 3300 Training Accuracy: 1.0\n",
      "Iteration: 3400 Training Accuracy: 1.0\n",
      "Iteration: 3500 Training Accuracy: 1.0\n",
      "Iteration: 3600 Training Accuracy: 1.0\n",
      "Iteration: 3700 Training Accuracy: 1.0\n",
      "Iteration: 3800 Training Accuracy: 1.0\n",
      "Iteration: 3900 Training Accuracy: 0.99609375\n",
      "Iteration: 4000 Training Accuracy: 1.0\n",
      "Iteration: 4100 Training Accuracy: 1.0\n",
      "Iteration: 4200 Training Accuracy: 0.99609375\n",
      "Iteration: 4300 Training Accuracy: 1.0\n",
      "Iteration: 4400 Training Accuracy: 1.0\n",
      "Iteration: 4500 Training Accuracy: 1.0\n",
      "Iteration: 4600 Training Accuracy: 1.0\n",
      "Iteration: 4700 Training Accuracy: 1.0\n",
      "Iteration: 4800 Training Accuracy: 1.0\n",
      "Iteration: 4900 Training Accuracy: 1.0\n",
      "Iteration: 5000 Training Accuracy: 1.0\n",
      "Iteration: 5100 Training Accuracy: 1.0\n",
      "Iteration: 5200 Training Accuracy: 1.0\n",
      "Iteration: 5300 Training Accuracy: 1.0\n",
      "Iteration: 5400 Training Accuracy: 1.0\n",
      "Iteration: 5500 Training Accuracy: 1.0\n",
      "Iteration: 5600 Training Accuracy: 1.0\n",
      "Iteration: 5700 Training Accuracy: 1.0\n",
      "Iteration: 5800 Training Accuracy: 1.0\n",
      "Iteration: 5900 Training Accuracy: 1.0\n",
      "Iteration: 6000 Training Accuracy: 1.0\n",
      "Iteration: 6100 Training Accuracy: 1.0\n",
      "Iteration: 6200 Training Accuracy: 1.0\n",
      "Iteration: 6300 Training Accuracy: 1.0\n",
      "Iteration: 6400 Training Accuracy: 1.0\n",
      "Iteration: 6500 Training Accuracy: 1.0\n",
      "Iteration: 6600 Training Accuracy: 1.0\n",
      "Iteration: 6700 Training Accuracy: 1.0\n",
      "Iteration: 6800 Training Accuracy: 1.0\n",
      "Iteration: 6900 Training Accuracy: 1.0\n",
      "Iteration: 7000 Training Accuracy: 1.0\n",
      "Iteration: 7100 Training Accuracy: 1.0\n",
      "Iteration: 7200 Training Accuracy: 1.0\n",
      "Iteration: 7300 Training Accuracy: 1.0\n",
      "Iteration: 7400 Training Accuracy: 1.0\n",
      "Iteration: 7500 Training Accuracy: 1.0\n",
      "Iteration: 7600 Training Accuracy: 1.0\n",
      "Iteration: 7700 Training Accuracy: 1.0\n",
      "Iteration: 7800 Training Accuracy: 1.0\n",
      "Iteration: 7900 Training Accuracy: 1.0\n",
      "Iteration: 8000 Training Accuracy: 1.0\n",
      "Iteration: 8100 Training Accuracy: 1.0\n",
      "Iteration: 8200 Training Accuracy: 1.0\n",
      "Iteration: 8300 Training Accuracy: 1.0\n",
      "Iteration: 8400 Training Accuracy: 1.0\n",
      "Iteration: 8500 Training Accuracy: 1.0\n",
      "Iteration: 8600 Training Accuracy: 1.0\n",
      "Iteration: 8700 Training Accuracy: 1.0\n",
      "Iteration: 8800 Training Accuracy: 1.0\n",
      "Iteration: 8900 Training Accuracy: 1.0\n",
      "Iteration: 9000 Training Accuracy: 1.0\n",
      "Iteration: 9100 Training Accuracy: 1.0\n",
      "Iteration: 9200 Training Accuracy: 1.0\n",
      "Iteration: 9300 Training Accuracy: 1.0\n",
      "Iteration: 9400 Training Accuracy: 1.0\n",
      "Iteration: 9500 Training Accuracy: 1.0\n",
      "Iteration: 9600 Training Accuracy: 1.0\n",
      "Iteration: 9700 Training Accuracy: 1.0\n",
      "Iteration: 9800 Training Accuracy: 1.0\n",
      "Iteration: 9900 Training Accuracy: 1.0\n",
      "Time Usage: 117.84464383125305\n"
     ]
    }
   ],
   "source": [
    "optimize(10000)"
   ]
  },
  {
   "cell_type": "code",
   "execution_count": 100,
   "metadata": {
    "colab": {
     "autoexec": {
      "startup": false,
      "wait_interval": 0
     },
     "base_uri": "https://localhost:8080/",
     "height": 773
    },
    "colab_type": "code",
    "executionInfo": {
     "elapsed": 2105,
     "status": "ok",
     "timestamp": 1531165088655,
     "user": {
      "displayName": "Vivek Tiwari",
      "photoUrl": "https://lh3.googleusercontent.com/a/default-user=s128",
      "userId": "114333608223615134400"
     },
     "user_tz": 420
    },
    "id": "pgjGtF4RiWyX",
    "outputId": "700d3ceb-b30b-4219-c76d-6c71f81aad97"
   },
   "outputs": [
    {
     "name": "stdout",
     "output_type": "stream",
     "text": [
      "Accuracy: 0.9925\n",
      "Example errors: \n"
     ]
    },
    {
     "data": {
      "image/png": "[encoded data removed]",
      "text/plain": [
       "<matplotlib.figure.Figure at 0x7f3f962647f0>"
      ]
     },
     "metadata": {
      "tags": []
     },
     "output_type": "display_data"
    },
    {
     "name": "stdout",
     "output_type": "stream",
     "text": [
      "Confusion Matrix: \n",
      "[[ 979    0    0    0    0    0    0    0    1    0]\n",
      " [   0 1132    1    0    0    0    0    0    2    0]\n",
      " [   0    0 1024    1    1    0    0    4    2    0]\n",
      " [   0    0    0 1007    0    2    0    1    0    0]\n",
      " [   0    0    1    0  976    0    0    0    0    5]\n",
      " [   2    0    0    6    0  883    1    0    0    0]\n",
      " [   3    2    0    0    1    2  950    0    0    0]\n",
      " [   0    3    4    0    0    0    0 1017    1    3]\n",
      " [   2    0    1    3    0    1    2    1  963    1]\n",
      " [   0    0    0    2    6    2    0    3    2  994]]\n"
     ]
    },
    {
     "data": {
      "image/png": "[encoded data removed]",
      "text/plain": [
       "<matplotlib.figure.Figure at 0x7f3f95e03f60>"
      ]
     },
     "metadata": {
      "tags": []
     },
     "output_type": "display_data"
    }
   ],
   "source": [
    "print_test_accuracy(show_example_errors=True,show_confusion_matrix=True)"
   ]
  },
  {
   "cell_type": "markdown",
   "metadata": {
    "colab_type": "text",
    "id": "Rrfcbk9ujsrN"
   },
   "source": [
    "**Performance after 20000 optimization iteration** "
   ]
  },
  {
   "cell_type": "code",
   "execution_count": 102,
   "metadata": {
    "colab": {
     "autoexec": {
      "startup": false,
      "wait_interval": 0
     },
     "base_uri": "https://localhost:8080/",
     "height": 368
    },
    "colab_type": "code",
    "executionInfo": {
     "elapsed": 234919,
     "status": "ok",
     "timestamp": 1531165450631,
     "user": {
      "displayName": "Vivek Tiwari",
      "photoUrl": "https://lh3.googleusercontent.com/a/default-user=s128",
      "userId": "114333608223615134400"
     },
     "user_tz": 420
    },
    "id": "tsw0Fcm3i_Cj",
    "outputId": "80f0464f-b6d7-43bd-8cb1-5f455a627c5f"
   },
   "outputs": [
    {
     "name": "stdout",
     "output_type": "stream",
     "text": [
      "Iteration: 0 Training Accuracy: 1.0\n",
      "Iteration: 1000 Training Accuracy: 1.0\n",
      "Iteration: 2000 Training Accuracy: 1.0\n",
      "Iteration: 3000 Training Accuracy: 1.0\n",
      "Iteration: 4000 Training Accuracy: 1.0\n",
      "Iteration: 5000 Training Accuracy: 1.0\n",
      "Iteration: 6000 Training Accuracy: 1.0\n",
      "Iteration: 7000 Training Accuracy: 0.99609375\n",
      "Iteration: 8000 Training Accuracy: 1.0\n",
      "Iteration: 9000 Training Accuracy: 1.0\n",
      "Iteration: 10000 Training Accuracy: 1.0\n",
      "Iteration: 11000 Training Accuracy: 1.0\n",
      "Iteration: 12000 Training Accuracy: 1.0\n",
      "Iteration: 13000 Training Accuracy: 1.0\n",
      "Iteration: 14000 Training Accuracy: 1.0\n",
      "Iteration: 15000 Training Accuracy: 1.0\n",
      "Iteration: 16000 Training Accuracy: 1.0\n",
      "Iteration: 17000 Training Accuracy: 1.0\n",
      "Iteration: 18000 Training Accuracy: 1.0\n",
      "Iteration: 19000 Training Accuracy: 1.0\n",
      "Time Usage: 233.2251148223877\n"
     ]
    }
   ],
   "source": [
    "optimize(20000)"
   ]
  },
  {
   "cell_type": "code",
   "execution_count": 103,
   "metadata": {
    "colab": {
     "autoexec": {
      "startup": false,
      "wait_interval": 0
     },
     "base_uri": "https://localhost:8080/",
     "height": 773
    },
    "colab_type": "code",
    "executionInfo": {
     "elapsed": 2292,
     "status": "ok",
     "timestamp": 1531165453102,
     "user": {
      "displayName": "Vivek Tiwari",
      "photoUrl": "https://lh3.googleusercontent.com/a/default-user=s128",
      "userId": "114333608223615134400"
     },
     "user_tz": 420
    },
    "id": "xeDxFLMzjwpf",
    "outputId": "2858ef20-5172-44eb-bd69-989d1e4a8adf"
   },
   "outputs": [
    {
     "name": "stdout",
     "output_type": "stream",
     "text": [
      "Accuracy: 0.9926\n",
      "Example errors: \n"
     ]
    },
    {
     "data": {
      "image/png": "[encoded data removed]",
      "text/plain": [
       "<matplotlib.figure.Figure at 0x7f3f96032e10>"
      ]
     },
     "metadata": {
      "tags": []
     },
     "output_type": "display_data"
    },
    {
     "name": "stdout",
     "output_type": "stream",
     "text": [
      "Confusion Matrix: \n",
      "[[ 980    0    0    0    0    0    0    0    0    0]\n",
      " [   0 1132    1    0    0    0    0    0    2    0]\n",
      " [   0    0 1026    0    1    0    0    5    0    0]\n",
      " [   0    0    0 1009    0    1    0    0    0    0]\n",
      " [   0    0    1    0  975    0    0    0    1    5]\n",
      " [   1    0    0    5    0  885    1    0    0    0]\n",
      " [   3    2    1    0    1    2  949    0    0    0]\n",
      " [   0    2    5    0    0    0    0 1016    1    4]\n",
      " [   1    0    2    3    0    2    0    0  963    3]\n",
      " [   0    0    0    1    7    4    0    5    1  991]]\n"
     ]
    },
    {
     "data": {
      "image/png": "[encoded data removed]",
      "text/plain": [
       "<matplotlib.figure.Figure at 0x7f3f95d7ab38>"
      ]
     },
     "metadata": {
      "tags": []
     },
     "output_type": "display_data"
    }
   ],
   "source": [
    "print_test_accuracy(show_example_errors=True,show_confusion_matrix=True)"
   ]
  },
  {
   "cell_type": "markdown",
   "metadata": {
    "colab_type": "text",
    "id": "e7OLbI5KkF7o"
   },
   "source": [
    "**Visualisation of weights and layers**\n",
    "\n",
    "*Helper function for plotting convolutional weights*"
   ]
  },
  {
   "cell_type": "code",
   "execution_count": 0,
   "metadata": {
    "colab": {
     "autoexec": {
      "startup": false,
      "wait_interval": 0
     }
    },
    "colab_type": "code",
    "id": "4LMKLXWLj9yt"
   },
   "outputs": [],
   "source": [
    "def plot_conv_weights(weights,input_channel=0):\n",
    "  w = sess.run(weights)\n",
    "  \n",
    "  w_min = np.min(w)\n",
    "  w_max = np.max(w)\n",
    "  \n",
    "  n_filters = w.shape[-1]\n",
    "  num_grids = math.ceil(math.sqrt(n_filters))\n",
    "  \n",
    "  fig,axes = plt.subplots(num_grids,num_grids)\n",
    "  \n",
    "  i=0\n",
    "  for indx, ax in enumerate(axes.flat):\n",
    "    if i < n_filters:\n",
    "      img = w[:,:,input_channel,i]\n",
    "      \n",
    "      ax.imshow(img,cmap='seismic',vmin=w_min,vmax=w_max,interpolation='nearest')\n",
    "    ax.set_xticks([])\n",
    "    ax.set_yticks([])\n",
    "    \n",
    "  plt.show()"
   ]
  },
  {
   "cell_type": "markdown",
   "metadata": {
    "colab_type": "text",
    "id": "O0pfzDQ0m27u"
   },
   "source": [
    "**Helper Function for plotting the output of the convolutional layer**"
   ]
  },
  {
   "cell_type": "code",
   "execution_count": 0,
   "metadata": {
    "colab": {
     "autoexec": {
      "startup": false,
      "wait_interval": 0
     }
    },
    "colab_type": "code",
    "id": "zSJXgV-pm1uK"
   },
   "outputs": [],
   "source": [
    "def plot_conv_layer(layer,image):\n",
    "  feed_dict = {X:[image]}\n",
    "  \n",
    "  values = sess.run(layer,feed_dict=feed_dict)\n",
    "  print(values.shape)\n",
    "  n_filters = values.shape[-1]\n",
    "  num_grids = math.ceil(math.sqrt(n_filters))\n",
    "  \n",
    "  fig,axes = plt.subplots(num_grids,num_grids)\n",
    "  i=0\n",
    "  for indx, ax in enumerate(axes.flat):\n",
    "    if i < n_filters:\n",
    "      img = values[0,:,:,i]\n",
    "      \n",
    "      ax.imshow(img,cmap='binary',interpolation='nearest')\n",
    "    ax.set_xticks([])\n",
    "    ax.set_yticks([])\n",
    "    \n",
    "  plt.show()"
   ]
  },
  {
   "cell_type": "markdown",
   "metadata": {
    "colab_type": "text",
    "id": "T-9RhuFankgV"
   },
   "source": [
    "**Input Images**"
   ]
  },
  {
   "cell_type": "code",
   "execution_count": 0,
   "metadata": {
    "colab": {
     "autoexec": {
      "startup": false,
      "wait_interval": 0
     }
    },
    "colab_type": "code",
    "id": "4jx21bvhnhkU"
   },
   "outputs": [],
   "source": [
    "def plot_image(image):\n",
    "  plt.imshow(image.reshape(img_shape),interpolation='nearest',cmap='binary')\n",
    "  \n",
    "  plt.show()"
   ]
  },
  {
   "cell_type": "code",
   "execution_count": 107,
   "metadata": {
    "colab": {
     "autoexec": {
      "startup": false,
      "wait_interval": 0
     },
     "base_uri": "https://localhost:8080/",
     "height": 265
    },
    "colab_type": "code",
    "executionInfo": {
     "elapsed": 1162,
     "status": "ok",
     "timestamp": 1531166314522,
     "user": {
      "displayName": "Vivek Tiwari",
      "photoUrl": "https://lh3.googleusercontent.com/a/default-user=s128",
      "userId": "114333608223615134400"
     },
     "user_tz": 420
    },
    "id": "PVZUPgeXn1RY",
    "outputId": "acd11916-1896-4615-b253-b951670361c5"
   },
   "outputs": [
    {
     "data": {
      "image/png": "[encoded data removed]",
      "text/plain": [
       "<matplotlib.figure.Figure at 0x7f3fe7803f98>"
      ]
     },
     "metadata": {
      "tags": []
     },
     "output_type": "display_data"
    }
   ],
   "source": [
    "img1 = data.test.images[0]\n",
    "plot_image(img1)"
   ]
  },
  {
   "cell_type": "code",
   "execution_count": 110,
   "metadata": {
    "colab": {
     "autoexec": {
      "startup": false,
      "wait_interval": 0
     },
     "base_uri": "https://localhost:8080/",
     "height": 265
    },
    "colab_type": "code",
    "executionInfo": {
     "elapsed": 1654,
     "status": "ok",
     "timestamp": 1531166397900,
     "user": {
      "displayName": "Vivek Tiwari",
      "photoUrl": "https://lh3.googleusercontent.com/a/default-user=s128",
      "userId": "114333608223615134400"
     },
     "user_tz": 420
    },
    "id": "v_YiVgpLn8of",
    "outputId": "8953c506-ac5d-4986-a47a-5f907140b097"
   },
   "outputs": [
    {
     "data": {
      "image/png": "[encoded data removed]",
      "text/plain": [
       "<matplotlib.figure.Figure at 0x7f3fe77f9278>"
      ]
     },
     "metadata": {
      "tags": []
     },
     "output_type": "display_data"
    }
   ],
   "source": [
    "img2 = data.test.images[11]\n",
    "plot_image(img2)"
   ]
  },
  {
   "cell_type": "code",
   "execution_count": 0,
   "metadata": {
    "colab": {
     "autoexec": {
      "startup": false,
      "wait_interval": 0
     }
    },
    "colab_type": "code",
    "id": "hMewoyxPrrmE"
   },
   "outputs": [],
   "source": [
    "sess.close()"
   ]
  },
  {
   "cell_type": "code",
   "execution_count": 0,
   "metadata": {
    "colab": {
     "autoexec": {
      "startup": false,
      "wait_interval": 0
     }
    },
    "colab_type": "code",
    "id": "Bw26tmfWtMWU"
   },
   "outputs": [],
   "source": []
  }
 ],
 "metadata": {
  "accelerator": "GPU",
  "colab": {
   "collapsed_sections": [],
   "default_view": {},
   "name": "02_convnet.ipynb",
   "provenance": [],
   "version": "0.3.2",
   "views": {}
  },
  "kernelspec": {
   "display_name": "Python 3",
   "language": "python",
   "name": "python3"
  },
  "language_info": {
   "codemirror_mode": {
    "name": "ipython",
    "version": 3
   },
   "file_extension": ".py",
   "mimetype": "text/x-python",
   "name": "python",
   "nbconvert_exporter": "python",
   "pygments_lexer": "ipython3",
   "version": "3.6.4"
  }
 },
 "nbformat": 4,
 "nbformat_minor": 1
}
