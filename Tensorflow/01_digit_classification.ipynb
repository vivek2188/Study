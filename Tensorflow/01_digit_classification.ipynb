{
 "cells": [
  {
   "cell_type": "markdown",
   "metadata": {
    "colab_type": "text",
    "id": "T1mKqEqNqC1p"
   },
   "source": [
    "##  Simple Linear Model\n"
   ]
  },
  {
   "cell_type": "code",
   "execution_count": 0,
   "metadata": {
    "colab": {
     "autoexec": {
      "startup": false,
      "wait_interval": 0
     }
    },
    "colab_type": "code",
    "id": "TQpwYKm5pU1_"
   },
   "outputs": [],
   "source": [
    "import numpy as np\n",
    "import matplotlib.pyplot as plt\n",
    "import tensorflow as tf\n",
    "from sklearn.metrics import confusion_matrix\n",
    "\n",
    "%matplotlib inline"
   ]
  },
  {
   "cell_type": "code",
   "execution_count": 145,
   "metadata": {
    "colab": {
     "autoexec": {
      "startup": false,
      "wait_interval": 0
     },
     "base_uri": "https://localhost:8080/",
     "height": 34
    },
    "colab_type": "code",
    "executionInfo": {
     "elapsed": 1116,
     "status": "ok",
     "timestamp": 1531127393870,
     "user": {
      "displayName": "Vivek Tiwari",
      "photoUrl": "https://lh3.googleusercontent.com/a/default-user=s128",
      "userId": "114333608223615134400"
     },
     "user_tz": 420
    },
    "id": "hoXNQWnBqF1Z",
    "outputId": "248e90e5-e893-4f86-e0c6-4e3d9a79c152"
   },
   "outputs": [
    {
     "data": {
      "text/plain": [
       "'1.9.0-rc2'"
      ]
     },
     "execution_count": 145,
     "metadata": {
      "tags": []
     },
     "output_type": "execute_result"
    }
   ],
   "source": [
    "#Version of the tensorflow\n",
    "tf.__version__"
   ]
  },
  {
   "cell_type": "markdown",
   "metadata": {
    "colab_type": "text",
    "id": "a75rjB3lsqYN"
   },
   "source": [
    "A simple mathematical model will be built for the MNIST dataset.\n",
    "####Load data"
   ]
  },
  {
   "cell_type": "code",
   "execution_count": 146,
   "metadata": {
    "colab": {
     "autoexec": {
      "startup": false,
      "wait_interval": 0
     },
     "base_uri": "https://localhost:8080/",
     "height": 84
    },
    "colab_type": "code",
    "executionInfo": {
     "elapsed": 1634,
     "status": "ok",
     "timestamp": 1531127396605,
     "user": {
      "displayName": "Vivek Tiwari",
      "photoUrl": "https://lh3.googleusercontent.com/a/default-user=s128",
      "userId": "114333608223615134400"
     },
     "user_tz": 420
    },
    "id": "EwVrZXoDshjg",
    "outputId": "f472e4c2-85a9-439a-e322-51dccfa642b4"
   },
   "outputs": [
    {
     "name": "stdout",
     "output_type": "stream",
     "text": [
      "Extracting data/MNIST/train-images-idx3-ubyte.gz\n",
      "Extracting data/MNIST/train-labels-idx1-ubyte.gz\n",
      "Extracting data/MNIST/t10k-images-idx3-ubyte.gz\n",
      "Extracting data/MNIST/t10k-labels-idx1-ubyte.gz\n"
     ]
    }
   ],
   "source": [
    "from tensorflow.examples.tutorials.mnist import input_data\n",
    "data = input_data.read_data_sets('data/MNIST/',one_hot=True)"
   ]
  },
  {
   "cell_type": "code",
   "execution_count": 147,
   "metadata": {
    "colab": {
     "autoexec": {
      "startup": false,
      "wait_interval": 0
     },
     "base_uri": "https://localhost:8080/",
     "height": 67
    },
    "colab_type": "code",
    "executionInfo": {
     "elapsed": 1393,
     "status": "ok",
     "timestamp": 1531127398193,
     "user": {
      "displayName": "Vivek Tiwari",
      "photoUrl": "https://lh3.googleusercontent.com/a/default-user=s128",
      "userId": "114333608223615134400"
     },
     "user_tz": 420
    },
    "id": "90BvivJ_tseA",
    "outputId": "d8768d21-620e-4d8d-c11d-d597bba7c45c"
   },
   "outputs": [
    {
     "name": "stdout",
     "output_type": "stream",
     "text": [
      "Size of training data: 55000\n",
      "Size of validation data: 5000\n",
      "Size of test data: 10000\n"
     ]
    }
   ],
   "source": [
    "#Size of the training, test and validation set\n",
    "print('Size of training data: '+str(len(data.train.labels)))\n",
    "print('Size of validation data: '+str(len(data.validation.labels)))\n",
    "print('Size of test data: '+str(len(data.test.labels)))"
   ]
  },
  {
   "cell_type": "code",
   "execution_count": 148,
   "metadata": {
    "colab": {
     "autoexec": {
      "startup": false,
      "wait_interval": 0
     },
     "base_uri": "https://localhost:8080/",
     "height": 101
    },
    "colab_type": "code",
    "executionInfo": {
     "elapsed": 719,
     "status": "ok",
     "timestamp": 1531127399461,
     "user": {
      "displayName": "Vivek Tiwari",
      "photoUrl": "https://lh3.googleusercontent.com/a/default-user=s128",
      "userId": "114333608223615134400"
     },
     "user_tz": 420
    },
    "id": "b-g-8tNkt277",
    "outputId": "4aa66f25-73fd-4612-ff0b-7f2d84416afe"
   },
   "outputs": [
    {
     "name": "stdout",
     "output_type": "stream",
     "text": [
      "[[0. 0. 0. 0. 0. 0. 0. 1. 0. 0.]\n",
      " [0. 0. 1. 0. 0. 0. 0. 0. 0. 0.]\n",
      " [0. 1. 0. 0. 0. 0. 0. 0. 0. 0.]\n",
      " [1. 0. 0. 0. 0. 0. 0. 0. 0. 0.]\n",
      " [0. 0. 0. 0. 1. 0. 0. 0. 0. 0.]]\n"
     ]
    }
   ],
   "source": [
    "#Test Output Matrix\n",
    "assert data.test.labels.shape == (10000,10)\n",
    "print(data.test.labels[:5])"
   ]
  },
  {
   "cell_type": "code",
   "execution_count": 149,
   "metadata": {
    "colab": {
     "autoexec": {
      "startup": false,
      "wait_interval": 0
     },
     "base_uri": "https://localhost:8080/",
     "height": 50
    },
    "colab_type": "code",
    "executionInfo": {
     "elapsed": 925,
     "status": "ok",
     "timestamp": 1531127400769,
     "user": {
      "displayName": "Vivek Tiwari",
      "photoUrl": "https://lh3.googleusercontent.com/a/default-user=s128",
      "userId": "114333608223615134400"
     },
     "user_tz": 420
    },
    "id": "OOHujtbK4cgF",
    "outputId": "9f4c802d-8021-4d55-8d9e-e9a4be9053d6"
   },
   "outputs": [
    {
     "name": "stdout",
     "output_type": "stream",
     "text": [
      "(10000,)\n",
      "[7 2 1 0 4]\n"
     ]
    }
   ],
   "source": [
    "#Storing the classes for the test samples\n",
    "data.test.cls = data.test.labels.argmax(axis=1)\n",
    "print(data.test.cls.shape)\n",
    "print(data.test.cls[:5])"
   ]
  },
  {
   "cell_type": "markdown",
   "metadata": {
    "colab_type": "text",
    "id": "5Gxpb7sM6iki"
   },
   "source": [
    "**MNIST** data consists of the handwritten digits which are the images of the sizes 28x28 pixels. \n",
    "\n",
    "The digits are numbered from **0** to **9**."
   ]
  },
  {
   "cell_type": "code",
   "execution_count": 0,
   "metadata": {
    "colab": {
     "autoexec": {
      "startup": false,
      "wait_interval": 0
     }
    },
    "colab_type": "code",
    "id": "5jXd-gFg5_53"
   },
   "outputs": [],
   "source": [
    "img_size = 28\n",
    "\n",
    "#Shape when the images are flattened  = (784,)\n",
    "img_flat_size = img_size * img_size\n",
    "#Shape of the each image\n",
    "img_shape = (img_size, img_size)\n",
    "#Number of the output class\n",
    "n_classes = 10"
   ]
  },
  {
   "cell_type": "markdown",
   "metadata": {
    "colab_type": "text",
    "id": "n8jN8LyG7wNp"
   },
   "source": [
    "##Helper function for plotting images\n",
    "\n",
    "Function plots 9 images in the form of 3x3 grid and has True and Predicted value underneath each image."
   ]
  },
  {
   "cell_type": "code",
   "execution_count": 0,
   "metadata": {
    "colab": {
     "autoexec": {
      "startup": false,
      "wait_interval": 0
     }
    },
    "colab_type": "code",
    "id": "EB5Uz_an7iBv"
   },
   "outputs": [],
   "source": [
    "def plot_images(images,y_true,y_pred=None):\n",
    "  #Check whether the images are exactly 9 or not\n",
    "  assert len(images) == len(y_true) == 9\n",
    "  \n",
    "  #Figures with 3x3 subplots\n",
    "  fig, axes = plt.subplots(nrows=3,ncols=3)\n",
    "  fig.subplots_adjust(hspace=0.5,wspace=0.5)\n",
    "  \n",
    "  for indx, ax in enumerate(axes.flat):\n",
    "    ax.imshow(images[indx].reshape(img_shape),cmap=plt.cm.gray_r)\n",
    "    \n",
    "    if y_pred is None:\n",
    "      xlabel = 'True: ' + str(y_true[indx])\n",
    "    else:\n",
    "      xlabel = 'True: ' + str(y_true[indx]) + ', Predicted: ' + str(y_pred[indx])\n",
    "      \n",
    "    ax.set_xlabel(xlabel)\n",
    "    \n",
    "    ax.set_xticks([])\n",
    "    ax.set_yticks([])\n",
    "    \n",
    "  plt.show()"
   ]
  },
  {
   "cell_type": "markdown",
   "metadata": {
    "colab_type": "text",
    "id": "JDZ-SPjb-Ygx"
   },
   "source": [
    "###Plotting few images using the Helper Function"
   ]
  },
  {
   "cell_type": "code",
   "execution_count": 152,
   "metadata": {
    "colab": {
     "autoexec": {
      "startup": false,
      "wait_interval": 0
     },
     "base_uri": "https://localhost:8080/",
     "height": 262
    },
    "colab_type": "code",
    "executionInfo": {
     "elapsed": 1076,
     "status": "ok",
     "timestamp": 1531127404525,
     "user": {
      "displayName": "Vivek Tiwari",
      "photoUrl": "https://lh3.googleusercontent.com/a/default-user=s128",
      "userId": "114333608223615134400"
     },
     "user_tz": 420
    },
    "id": "8nvfvuj--W10",
    "outputId": "dca1a30c-5691-4fa9-d045-805524f2bf8b"
   },
   "outputs": [
    {
     "data": {
      "image/png": "[encoded data removed]",
      "text/plain": [
       "<matplotlib.figure.Figure at 0x7fa355205d68>"
      ]
     },
     "metadata": {
      "tags": []
     },
     "output_type": "display_data"
    }
   ],
   "source": [
    "images = data.test.images[:9]\n",
    "labels = data.test.cls[:9]\n",
    "\n",
    "plot_images(images,labels)"
   ]
  },
  {
   "cell_type": "markdown",
   "metadata": {
    "colab_type": "text",
    "id": "ODBIRNq5AIO_"
   },
   "source": [
    "##TensorFlow Graph\n",
    "\n",
    "###*Placeholder Variables*"
   ]
  },
  {
   "cell_type": "code",
   "execution_count": 0,
   "metadata": {
    "colab": {
     "autoexec": {
      "startup": false,
      "wait_interval": 0
     }
    },
    "colab_type": "code",
    "id": "VAVrZH-z-6ZR"
   },
   "outputs": [],
   "source": [
    "X = tf.placeholder(tf.float32,[None,img_flat_size])\n",
    "y = tf.placeholder(tf.float32,[None,n_classes])\n",
    "\n",
    "y_cls = tf.placeholder(tf.int64,[None,])"
   ]
  },
  {
   "cell_type": "markdown",
   "metadata": {
    "colab_type": "text",
    "id": "oazF90z_CLZ8"
   },
   "source": [
    "###*Parameters*"
   ]
  },
  {
   "cell_type": "code",
   "execution_count": 0,
   "metadata": {
    "colab": {
     "autoexec": {
      "startup": false,
      "wait_interval": 0
     }
    },
    "colab_type": "code",
    "id": "DSi9k6Z5CVPZ"
   },
   "outputs": [],
   "source": [
    "w = tf.get_variable(name='W2',shape=[img_flat_size,n_classes],dtype=tf.float32,initializer=tf.contrib.layers.xavier_initializer())"
   ]
  },
  {
   "cell_type": "code",
   "execution_count": 0,
   "metadata": {
    "colab": {
     "autoexec": {
      "startup": false,
      "wait_interval": 0
     }
    },
    "colab_type": "code",
    "id": "_iWz9bPvCifO"
   },
   "outputs": [],
   "source": [
    "b = tf.get_variable(name='b2',shape=[n_classes,],initializer=tf.zeros_initializer(),dtype=tf.float32)"
   ]
  },
  {
   "cell_type": "markdown",
   "metadata": {
    "colab_type": "text",
    "id": "IgC5AYCwHPHI"
   },
   "source": [
    "##Model"
   ]
  },
  {
   "cell_type": "code",
   "execution_count": 0,
   "metadata": {
    "colab": {
     "autoexec": {
      "startup": false,
      "wait_interval": 0
     }
    },
    "colab_type": "code",
    "id": "VdJ_KSQ0HH1G"
   },
   "outputs": [],
   "source": [
    "# Z = X * W + b\n",
    "logits = tf.matmul(X,w)  + b"
   ]
  },
  {
   "cell_type": "code",
   "execution_count": 0,
   "metadata": {
    "colab": {
     "autoexec": {
      "startup": false,
      "wait_interval": 0
     }
    },
    "colab_type": "code",
    "id": "EmSXwHDWHbZt"
   },
   "outputs": [],
   "source": [
    "#Softmax Output\n",
    "y_pred = tf.nn.softmax(logits)"
   ]
  },
  {
   "cell_type": "code",
   "execution_count": 0,
   "metadata": {
    "colab": {
     "autoexec": {
      "startup": false,
      "wait_interval": 0
     }
    },
    "colab_type": "code",
    "id": "oHbBaYW2Hc3l"
   },
   "outputs": [],
   "source": [
    "#Predicted Classes\n",
    "y_pred_cls = tf.argmax(y_pred,axis=1)"
   ]
  },
  {
   "cell_type": "code",
   "execution_count": 0,
   "metadata": {
    "colab": {
     "autoexec": {
      "startup": false,
      "wait_interval": 0
     }
    },
    "colab_type": "code",
    "id": "jO-UXwBgJiT6"
   },
   "outputs": [],
   "source": [
    "#Loss \n",
    "loss = tf.reduce_mean(tf.nn.softmax_cross_entropy_with_logits_v2(logits=logits,labels=y))"
   ]
  },
  {
   "cell_type": "code",
   "execution_count": 0,
   "metadata": {
    "colab": {
     "autoexec": {
      "startup": false,
      "wait_interval": 0
     }
    },
    "colab_type": "code",
    "id": "SBDEIqstKDuA"
   },
   "outputs": [],
   "source": [
    "#Optimizer\n",
    "optimizer = tf.train.AdamOptimizer(learning_rate=1e-3).minimize(loss)"
   ]
  },
  {
   "cell_type": "code",
   "execution_count": 0,
   "metadata": {
    "colab": {
     "autoexec": {
      "startup": false,
      "wait_interval": 0
     }
    },
    "colab_type": "code",
    "id": "P6oxarPYKx0N"
   },
   "outputs": [],
   "source": [
    "#Finding the accuracy\n",
    "correct_prediction = tf.equal(y_pred_cls,y_cls)\n",
    "accuracy = tf.reduce_mean(tf.cast(correct_prediction,tf.float32))"
   ]
  },
  {
   "cell_type": "code",
   "execution_count": 0,
   "metadata": {
    "colab": {
     "autoexec": {
      "startup": false,
      "wait_interval": 0
     }
    },
    "colab_type": "code",
    "id": "iqq-M1jbLTXf"
   },
   "outputs": [],
   "source": [
    "#Tensorflow Session\n",
    "sess = tf.Session()\n",
    "sess.run(tf.global_variables_initializer())"
   ]
  },
  {
   "cell_type": "code",
   "execution_count": 0,
   "metadata": {
    "colab": {
     "autoexec": {
      "startup": false,
      "wait_interval": 0
     }
    },
    "colab_type": "code",
    "id": "Jacj2T7SMVRv"
   },
   "outputs": [],
   "source": [
    "batch_size = 256"
   ]
  },
  {
   "cell_type": "code",
   "execution_count": 0,
   "metadata": {
    "colab": {
     "autoexec": {
      "startup": false,
      "wait_interval": 0
     }
    },
    "colab_type": "code",
    "id": "Kw2r9QnvMeFV"
   },
   "outputs": [],
   "source": [
    "def optimize(n_iterations):\n",
    "  for i in range(n_iterations):\n",
    "    x_batch, y_batch = data.train.next_batch(batch_size)\n",
    "    feed_dict = {X:x_batch,y:y_batch}\n",
    "    \n",
    "    sess.run(optimizer,feed_dict=feed_dict)"
   ]
  },
  {
   "cell_type": "code",
   "execution_count": 0,
   "metadata": {
    "colab": {
     "autoexec": {
      "startup": false,
      "wait_interval": 0
     }
    },
    "colab_type": "code",
    "id": "z3Ns9CtINGvR"
   },
   "outputs": [],
   "source": [
    "feed_dict_test = {X:data.test.images,y:data.test.labels,y_cls:data.test.cls}"
   ]
  },
  {
   "cell_type": "code",
   "execution_count": 0,
   "metadata": {
    "colab": {
     "autoexec": {
      "startup": false,
      "wait_interval": 0
     }
    },
    "colab_type": "code",
    "id": "VHINre7nNZmR"
   },
   "outputs": [],
   "source": [
    "def print_accuracy():\n",
    "  acc = sess.run(accuracy,feed_dict=feed_dict_test)\n",
    "  \n",
    "  #Accuracy over the test set\n",
    "  print('Accuracy: '+str(acc))"
   ]
  },
  {
   "cell_type": "code",
   "execution_count": 0,
   "metadata": {
    "colab": {
     "autoexec": {
      "startup": false,
      "wait_interval": 0
     }
    },
    "colab_type": "code",
    "id": "rEcwCYBeN1aZ"
   },
   "outputs": [],
   "source": [
    "def print_confusion_matrix():\n",
    "  y_true = data.test.cls\n",
    "  \n",
    "  y_pred = sess.run(y_pred_cls,feed_dict=feed_dict_test)\n",
    "  cm = confusion_matrix(y_true=y_true,y_pred=y_pred)\n",
    "  \n",
    "  print(cm)\n",
    "  \n",
    "  #Plot Confusion Matrix as an image\n",
    "  plt.imshow(cm,interpolation='nearest',cmap=plt.cm.Spectral)\n",
    "  \n",
    "  plt.tight_layout()\n",
    "  plt.colorbar()\n",
    "  tick_marks = np.arange(n_classes)\n",
    "  plt.xticks(tick_marks,range(n_classes))\n",
    "  plt.yticks(tick_marks,range(n_classes))\n",
    "  plt.xlabel('Predicted')\n",
    "  plt.ylabel('True')\n",
    "  \n",
    "  plt.show()"
   ]
  },
  {
   "cell_type": "code",
   "execution_count": 0,
   "metadata": {
    "colab": {
     "autoexec": {
      "startup": false,
      "wait_interval": 0
     }
    },
    "colab_type": "code",
    "id": "W0axLQiZPRl8"
   },
   "outputs": [],
   "source": [
    "def plot_example_errors():\n",
    "  correct, y_pred  = sess.run([correct_prediction,y_pred_cls],feed_dict=feed_dict_test)\n",
    "  \n",
    "  incorrect = (correct == False)\n",
    "  \n",
    "  images = data.test.images[incorrect]\n",
    "  y_pred = y_pred[incorrect]\n",
    "  y_true = data.test.cls[incorrect]\n",
    "  \n",
    "  plot_images(images[:9],y_true[:9],y_pred[:9])"
   ]
  },
  {
   "cell_type": "code",
   "execution_count": 0,
   "metadata": {
    "colab": {
     "autoexec": {
      "startup": false,
      "wait_interval": 0
     }
    },
    "colab_type": "code",
    "id": "HzcnSI5pQ-ED"
   },
   "outputs": [],
   "source": [
    "def plot_weights():\n",
    "  weight = sess.run(w)\n",
    "  \n",
    "  w_min = np.min(weight)\n",
    "  w_max = np.max(weight)\n",
    "  \n",
    "  fig, axes = plt.subplots(3,3)\n",
    "  fig.subplots_adjust(hspace=0.5,wspace=0.5)\n",
    "  \n",
    "  for indx, ax in enumerate(axes.flat):\n",
    "    if indx < 10:\n",
    "      image = weight[:,indx].reshape(img_shape)\n",
    "      \n",
    "      ax.set_xlabel('Weight: '+str(indx))\n",
    "      ax.imshow(image,cmap='seismic')\n",
    "    ax.set_xticks([])\n",
    "    ax.set_yticks([])\n",
    "    \n",
    "  plt.show()"
   ]
  },
  {
   "cell_type": "code",
   "execution_count": 185,
   "metadata": {
    "colab": {
     "autoexec": {
      "startup": false,
      "wait_interval": 0
     },
     "base_uri": "https://localhost:8080/",
     "height": 34
    },
    "colab_type": "code",
    "executionInfo": {
     "elapsed": 1011,
     "status": "ok",
     "timestamp": 1531127645096,
     "user": {
      "displayName": "Vivek Tiwari",
      "photoUrl": "https://lh3.googleusercontent.com/a/default-user=s128",
      "userId": "114333608223615134400"
     },
     "user_tz": 420
    },
    "id": "k0ZEHLaJS47U",
    "outputId": "4813bc58-b94f-4292-89ac-80ca31a5d26a"
   },
   "outputs": [
    {
     "name": "stdout",
     "output_type": "stream",
     "text": [
      "Accuracy: 0.0835\n"
     ]
    }
   ],
   "source": [
    "print_accuracy() "
   ]
  },
  {
   "cell_type": "code",
   "execution_count": 190,
   "metadata": {
    "colab": {
     "autoexec": {
      "startup": false,
      "wait_interval": 0
     },
     "base_uri": "https://localhost:8080/",
     "height": 262
    },
    "colab_type": "code",
    "executionInfo": {
     "elapsed": 1682,
     "status": "ok",
     "timestamp": 1531127724762,
     "user": {
      "displayName": "Vivek Tiwari",
      "photoUrl": "https://lh3.googleusercontent.com/a/default-user=s128",
      "userId": "114333608223615134400"
     },
     "user_tz": 420
    },
    "id": "G_8FEEW9S9cy",
    "outputId": "488cdc2a-9578-4c89-fe35-b28ee6f3bee1"
   },
   "outputs": [
    {
     "data": {
      "image/png": "[encoded data removed]",
      "text/plain": [
       "<matplotlib.figure.Figure at 0x7fa35565c860>"
      ]
     },
     "metadata": {
      "tags": []
     },
     "output_type": "display_data"
    }
   ],
   "source": [
    "plot_example_errors()"
   ]
  },
  {
   "cell_type": "code",
   "execution_count": 219,
   "metadata": {
    "colab": {
     "autoexec": {
      "startup": false,
      "wait_interval": 0
     },
     "base_uri": "https://localhost:8080/",
     "height": 34
    },
    "colab_type": "code",
    "executionInfo": {
     "elapsed": 1031,
     "status": "ok",
     "timestamp": 1531128338169,
     "user": {
      "displayName": "Vivek Tiwari",
      "photoUrl": "https://lh3.googleusercontent.com/a/default-user=s128",
      "userId": "114333608223615134400"
     },
     "user_tz": 420
    },
    "id": "S-7y3CKTT9sD",
    "outputId": "14e3398a-2154-44e8-b781-9293654b844e"
   },
   "outputs": [
    {
     "name": "stdout",
     "output_type": "stream",
     "text": [
      "Training time for 10 iterations: 0.02411174774169922\n"
     ]
    }
   ],
   "source": [
    "import time\n",
    "\n",
    "itr = 10\n",
    "start = time.time()\n",
    "optimize(n_iterations=itr)\n",
    "end = time.time()\n",
    "\n",
    "print('Training time for '+str(itr)+' iterations: '+str(end-start))"
   ]
  },
  {
   "cell_type": "code",
   "execution_count": 220,
   "metadata": {
    "colab": {
     "autoexec": {
      "startup": false,
      "wait_interval": 0
     },
     "base_uri": "https://localhost:8080/",
     "height": 34
    },
    "colab_type": "code",
    "executionInfo": {
     "elapsed": 1102,
     "status": "ok",
     "timestamp": 1531128341410,
     "user": {
      "displayName": "Vivek Tiwari",
      "photoUrl": "https://lh3.googleusercontent.com/a/default-user=s128",
      "userId": "114333608223615134400"
     },
     "user_tz": 420
    },
    "id": "pq701u2_VWkm",
    "outputId": "8cc92b46-e861-4b73-da29-dbeeb4ce0fdf"
   },
   "outputs": [
    {
     "name": "stdout",
     "output_type": "stream",
     "text": [
      "Accuracy: 0.9285\n"
     ]
    }
   ],
   "source": [
    "print_accuracy()"
   ]
  },
  {
   "cell_type": "code",
   "execution_count": 221,
   "metadata": {
    "colab": {
     "autoexec": {
      "startup": false,
      "wait_interval": 0
     },
     "base_uri": "https://localhost:8080/",
     "height": 262
    },
    "colab_type": "code",
    "executionInfo": {
     "elapsed": 1613,
     "status": "ok",
     "timestamp": 1531128345250,
     "user": {
      "displayName": "Vivek Tiwari",
      "photoUrl": "https://lh3.googleusercontent.com/a/default-user=s128",
      "userId": "114333608223615134400"
     },
     "user_tz": 420
    },
    "id": "dqP31iArVbo1",
    "outputId": "df79c534-a02a-4098-dd7f-b7d556fee3ea"
   },
   "outputs": [
    {
     "data": {
      "image/png": "[encoded data removed]",
      "text/plain": [
       "<matplotlib.figure.Figure at 0x7fa3398d6b38>"
      ]
     },
     "metadata": {
      "tags": []
     },
     "output_type": "display_data"
    }
   ],
   "source": [
    "plot_example_errors()"
   ]
  },
  {
   "cell_type": "code",
   "execution_count": 222,
   "metadata": {
    "colab": {
     "autoexec": {
      "startup": false,
      "wait_interval": 0
     },
     "base_uri": "https://localhost:8080/",
     "height": 262
    },
    "colab_type": "code",
    "executionInfo": {
     "elapsed": 1298,
     "status": "ok",
     "timestamp": 1531128348328,
     "user": {
      "displayName": "Vivek Tiwari",
      "photoUrl": "https://lh3.googleusercontent.com/a/default-user=s128",
      "userId": "114333608223615134400"
     },
     "user_tz": 420
    },
    "id": "JSHCyzZwVs_w",
    "outputId": "67687642-6a1f-4542-c0ba-f400d687a351"
   },
   "outputs": [
    {
     "data": {
      "image/png": "[encoded data removed]",
      "text/plain": [
       "<matplotlib.figure.Figure at 0x7fa35531bdd8>"
      ]
     },
     "metadata": {
      "tags": []
     },
     "output_type": "display_data"
    }
   ],
   "source": [
    "plot_weights()"
   ]
  },
  {
   "cell_type": "code",
   "execution_count": 225,
   "metadata": {
    "colab": {
     "autoexec": {
      "startup": false,
      "wait_interval": 0
     },
     "base_uri": "https://localhost:8080/",
     "height": 479
    },
    "colab_type": "code",
    "executionInfo": {
     "elapsed": 933,
     "status": "ok",
     "timestamp": 1531128405162,
     "user": {
      "displayName": "Vivek Tiwari",
      "photoUrl": "https://lh3.googleusercontent.com/a/default-user=s128",
      "userId": "114333608223615134400"
     },
     "user_tz": 420
    },
    "id": "5VEbVvHkV9Xm",
    "outputId": "854570ae-f9cb-4c6c-cac5-29cd84d2fceb"
   },
   "outputs": [
    {
     "name": "stdout",
     "output_type": "stream",
     "text": [
      "[[ 962    0    1    2    0    5    7    2    1    0]\n",
      " [   0 1111    3    2    0    1    4    2   12    0]\n",
      " [   6    8  922   15    7    3   15   10   43    3]\n",
      " [   3    0   17  924    1   23    3    9   25    5]\n",
      " [   1    1    3    2  923    0   12    4    8   28]\n",
      " [   8    2    1   35   10  776   15    8   32    5]\n",
      " [   9    3    3    2    7   12  919    1    2    0]\n",
      " [   1    6   19   11    7    1    0  946    6   31]\n",
      " [   6    7    6   20    9   20    9   10  878    9]\n",
      " [  11    8    1    8   29    6    0   16    6  924]]\n"
     ]
    },
    {
     "data": {
      "image/png": "[encoded data removed]",
      "text/plain": [
       "<matplotlib.figure.Figure at 0x7fa358014f98>"
      ]
     },
     "metadata": {
      "tags": []
     },
     "output_type": "display_data"
    }
   ],
   "source": [
    "print_confusion_matrix()"
   ]
  },
  {
   "cell_type": "code",
   "execution_count": null,
   "metadata": {},
   "outputs": [],
   "source": [
    "sess.close()"
   ]
  }
 ],
 "metadata": {
  "accelerator": "GPU",
  "colab": {
   "collapsed_sections": [],
   "default_view": {},
   "name": "colab_1.ipynb",
   "provenance": [],
   "version": "0.3.2",
   "views": {}
  },
  "kernelspec": {
   "display_name": "Python 3",
   "language": "python",
   "name": "python3"
  },
  "language_info": {
   "codemirror_mode": {
    "name": "ipython",
    "version": 3
   },
   "file_extension": ".py",
   "mimetype": "text/x-python",
   "name": "python",
   "nbconvert_exporter": "python",
   "pygments_lexer": "ipython3",
   "version": "3.6.4"
  }
 },
 "nbformat": 4,
 "nbformat_minor": 1
}
