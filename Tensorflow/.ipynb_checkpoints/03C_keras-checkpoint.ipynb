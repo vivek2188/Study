{
 "cells": [
  {
   "cell_type": "markdown",
   "metadata": {
    "colab_type": "text",
    "id": "G24IYXG0a4-R"
   },
   "source": [
    "*Performed on Google Colab*\n",
    "\n",
    "**Importing the libraries**"
   ]
  },
  {
   "cell_type": "code",
   "execution_count": 0,
   "metadata": {
    "colab": {
     "autoexec": {
      "startup": false,
      "wait_interval": 0
     }
    },
    "colab_type": "code",
    "id": "GARq45g5aZSi"
   },
   "outputs": [],
   "source": [
    "import numpy as np\n",
    "import matplotlib.pyplot as plt\n",
    "import tensorflow as tf\n",
    "import math\n",
    "\n",
    "%matplotlib inline"
   ]
  },
  {
   "cell_type": "code",
   "execution_count": 0,
   "metadata": {
    "colab": {
     "autoexec": {
      "startup": false,
      "wait_interval": 0
     }
    },
    "colab_type": "code",
    "id": "cjIUaHulbNp4"
   },
   "outputs": [],
   "source": [
    "from tensorflow.python.keras.models import Sequential\n",
    "from tensorflow.python.keras.layers import InputLayer, Input\n",
    "from tensorflow.python.keras.layers import Conv2D, MaxPooling2D\n",
    "from tensorflow.python.keras.layers import Flatten, Dense\n",
    "from tensorflow.python.keras.layers import Reshape"
   ]
  },
  {
   "cell_type": "markdown",
   "metadata": {
    "colab_type": "text",
    "id": "21xoYpaVcV-A"
   },
   "source": [
    "**Version of the tensorflow**"
   ]
  },
  {
   "cell_type": "code",
   "execution_count": 5,
   "metadata": {
    "colab": {
     "autoexec": {
      "startup": false,
      "wait_interval": 0
     },
     "base_uri": "https://localhost:8080/",
     "height": 33
    },
    "colab_type": "code",
    "executionInfo": {
     "elapsed": 893,
     "status": "ok",
     "timestamp": 1531247206601,
     "user": {
      "displayName": "Vivek Tiwari",
      "photoUrl": "https://lh3.googleusercontent.com/a/default-user=s128",
      "userId": "114333608223615134400"
     },
     "user_tz": -330
    },
    "id": "vkP6yyX0cGH2",
    "outputId": "dc96fdb3-8e64-4bba-8690-1be304966c1b"
   },
   "outputs": [
    {
     "data": {
      "text/plain": [
       "'1.9.0-rc2'"
      ]
     },
     "execution_count": 5,
     "metadata": {
      "tags": []
     },
     "output_type": "execute_result"
    }
   ],
   "source": [
    "tf.__version__"
   ]
  },
  {
   "cell_type": "markdown",
   "metadata": {
    "colab_type": "text",
    "id": "8gnuG9_6ckDa"
   },
   "source": [
    "**Importing the dataset**"
   ]
  },
  {
   "cell_type": "code",
   "execution_count": 7,
   "metadata": {
    "colab": {
     "autoexec": {
      "startup": false,
      "wait_interval": 0
     },
     "base_uri": "https://localhost:8080/",
     "height": 84
    },
    "colab_type": "code",
    "executionInfo": {
     "elapsed": 2049,
     "status": "ok",
     "timestamp": 1531247322454,
     "user": {
      "displayName": "Vivek Tiwari",
      "photoUrl": "https://lh3.googleusercontent.com/a/default-user=s128",
      "userId": "114333608223615134400"
     },
     "user_tz": -330
    },
    "id": "2soLJsc0chwd",
    "outputId": "1a456e96-9322-4174-e9ba-c0fb1507c897"
   },
   "outputs": [
    {
     "name": "stdout",
     "output_type": "stream",
     "text": [
      "Extracting data/MNIST/train-images-idx3-ubyte.gz\n",
      "Extracting data/MNIST/train-labels-idx1-ubyte.gz\n",
      "Extracting data/MNIST/t10k-images-idx3-ubyte.gz\n",
      "Extracting data/MNIST/t10k-labels-idx1-ubyte.gz\n"
     ]
    }
   ],
   "source": [
    "from tensorflow.examples.tutorials.mnist import input_data\n",
    "data = input_data.read_data_sets('data/MNIST',one_hot=True)"
   ]
  },
  {
   "cell_type": "code",
   "execution_count": 8,
   "metadata": {
    "colab": {
     "autoexec": {
      "startup": false,
      "wait_interval": 0
     },
     "base_uri": "https://localhost:8080/",
     "height": 67
    },
    "colab_type": "code",
    "executionInfo": {
     "elapsed": 879,
     "status": "ok",
     "timestamp": 1531247395358,
     "user": {
      "displayName": "Vivek Tiwari",
      "photoUrl": "https://lh3.googleusercontent.com/a/default-user=s128",
      "userId": "114333608223615134400"
     },
     "user_tz": -330
    },
    "id": "481AYyshc6VE",
    "outputId": "505b69a9-89c4-4f4c-b5d7-83942f32bf9b"
   },
   "outputs": [
    {
     "name": "stdout",
     "output_type": "stream",
     "text": [
      "Size of the training set: 55000\n",
      "Size of the test set: 10000\n",
      "Size of the validation set: 5000\n"
     ]
    }
   ],
   "source": [
    "print('Size of the training set: '+str(len(data.train.labels)))\n",
    "print('Size of the test set: '+str(len(data.test.labels)))\n",
    "print('Size of the validation set: '+str(len(data.validation.labels)))"
   ]
  },
  {
   "cell_type": "code",
   "execution_count": 0,
   "metadata": {
    "colab": {
     "autoexec": {
      "startup": false,
      "wait_interval": 0
     }
    },
    "colab_type": "code",
    "id": "Y8YOvJyqdP2p"
   },
   "outputs": [],
   "source": [
    "data.test.cls = np.argmax(data.test.labels,axis=1)"
   ]
  },
  {
   "cell_type": "markdown",
   "metadata": {
    "colab_type": "text",
    "id": "24cEwhL8dfld"
   },
   "source": [
    "**Data Dimensions**"
   ]
  },
  {
   "cell_type": "code",
   "execution_count": 0,
   "metadata": {
    "colab": {
     "autoexec": {
      "startup": false,
      "wait_interval": 0
     }
    },
    "colab_type": "code",
    "id": "3xIfpXTIdeGW"
   },
   "outputs": [],
   "source": [
    "img_size = 28\n",
    "img_flat_size = img_size * img_size\n",
    "img_shape = (img_size, img_size)\n",
    "img_shape_full = (img_size, img_size, 1)\n",
    "\n",
    "n_classes = 10\n",
    "n_channels = 1"
   ]
  },
  {
   "cell_type": "markdown",
   "metadata": {
    "colab_type": "text",
    "id": "sj_KDW44dymp"
   },
   "source": [
    "**Helper Function for plotting the images**"
   ]
  },
  {
   "cell_type": "code",
   "execution_count": 0,
   "metadata": {
    "colab": {
     "autoexec": {
      "startup": false,
      "wait_interval": 0
     }
    },
    "colab_type": "code",
    "id": "NAMGdf6pdxQh"
   },
   "outputs": [],
   "source": [
    "def plot_images(images,y_true,y_pred=None):\n",
    "  assert len(images) == len(y_true) == 9\n",
    "  \n",
    "  fig, axes = plt.subplots(3,3)\n",
    "  fig.subplots_adjust(hspace=0.5,wspace=0.5)\n",
    "  \n",
    "  for indx, ax in enumerate(axes.flat):\n",
    "    ax.imshow(images[indx].reshape(img_shape),cmap=plt.cm.gray_r)\n",
    "    \n",
    "    if y_pred is None:\n",
    "      xlabel = 'True ' + str(y_true[indx])\n",
    "    else:\n",
    "      xlabel = 'True ' + str(y_true[indx]) + ' Pred ' + str(y_pred[indx])\n",
    "    \n",
    "    ax.set_xlabel(xlabel)\n",
    "    \n",
    "    ax.set_xticks([])\n",
    "    ax.set_yticks([])\n",
    "    \n",
    "  plt.show()"
   ]
  },
  {
   "cell_type": "code",
   "execution_count": 22,
   "metadata": {
    "colab": {
     "autoexec": {
      "startup": false,
      "wait_interval": 0
     },
     "base_uri": "https://localhost:8080/",
     "height": 262
    },
    "colab_type": "code",
    "executionInfo": {
     "elapsed": 1284,
     "status": "ok",
     "timestamp": 1531248157340,
     "user": {
      "displayName": "Vivek Tiwari",
      "photoUrl": "https://lh3.googleusercontent.com/a/default-user=s128",
      "userId": "114333608223615134400"
     },
     "user_tz": -330
    },
    "id": "o1rPJ3mFfpvz",
    "outputId": "64763dfe-a378-4cd0-d9b1-dd6707c319bd"
   },
   "outputs": [
    {
     "data": {
      "image/png": "[encoded data removed]",
      "text/plain": [
       "<matplotlib.figure.Figure at 0x7f7a225649e8>"
      ]
     },
     "metadata": {
      "tags": []
     },
     "output_type": "display_data"
    }
   ],
   "source": [
    "images = data.test.images[:9]\n",
    "y_true = data.test.cls[:9]\n",
    "\n",
    "plot_images(images,y_true)"
   ]
  },
  {
   "cell_type": "markdown",
   "metadata": {
    "colab_type": "text",
    "id": "cvQHAhcHgMdu"
   },
   "source": [
    "**Helper Function for plotting example errors**"
   ]
  },
  {
   "cell_type": "code",
   "execution_count": 0,
   "metadata": {
    "colab": {
     "autoexec": {
      "startup": false,
      "wait_interval": 0
     }
    },
    "colab_type": "code",
    "id": "kgqNA4ZAf13P"
   },
   "outputs": [],
   "source": [
    "def plot_example_errors(y_pred):\n",
    "  # y_pred.shape = (M,)\n",
    "  incorrect = y_pred != data.test.cls\n",
    "  \n",
    "  correct_lbls = data.test.cls[incorrect]\n",
    "  incorrect_lbls = y_pred[incorrect]\n",
    "  images = data.test.images[incorrect]\n",
    "  \n",
    "  plot_images(images[:9],correct_lbls[:9],incorrect_lbls[:9])"
   ]
  },
  {
   "cell_type": "markdown",
   "metadata": {
    "colab_type": "text",
    "id": "8QuSCCJnhhN_"
   },
   "source": [
    "**Sequential model**"
   ]
  },
  {
   "cell_type": "code",
   "execution_count": 0,
   "metadata": {
    "colab": {
     "autoexec": {
      "startup": false,
      "wait_interval": 0
     }
    },
    "colab_type": "code",
    "id": "t7xNwnXFhejV"
   },
   "outputs": [],
   "source": [
    "model = Sequential()\n",
    "\n",
    "model.add(InputLayer(input_shape=(img_flat_size,)))\n",
    "model.add(Reshape(img_shape_full))\n",
    "model.add(Conv2D(kernel_size=5,strides=1,padding='SAME',filters=16,activation='relu',name='conv_layer1'))\n",
    "model.add(MaxPooling2D(pool_size=2,strides=2))\n",
    "model.add(Conv2D(kernel_size=5,strides=1,padding='SAME',filters=36,activation='relu',name='conv_layer2'))\n",
    "model.add(MaxPooling2D(pool_size=2,strides=2))\n",
    "model.add(Flatten())\n",
    "model.add(Dense(128,activation='relu'))\n",
    "model.add(Dense(n_classes,activation='softmax'))"
   ]
  },
  {
   "cell_type": "markdown",
   "metadata": {
    "colab_type": "text",
    "id": "CyzwedmQlRbF"
   },
   "source": [
    "**Model Compilation**"
   ]
  },
  {
   "cell_type": "code",
   "execution_count": 0,
   "metadata": {
    "colab": {
     "autoexec": {
      "startup": false,
      "wait_interval": 0
     }
    },
    "colab_type": "code",
    "id": "XWXO6AVckIw-"
   },
   "outputs": [],
   "source": [
    "from tensorflow.python.keras.optimizers import Adam\n",
    "optimizer = Adam(lr=1e-3)\n",
    "model.compile(optimizer=optimizer,loss='categorical_crossentropy',metrics=['accuracy'])"
   ]
  },
  {
   "cell_type": "markdown",
   "metadata": {
    "colab_type": "text",
    "id": "USCCDMFRl3lV"
   },
   "source": [
    "**Training**"
   ]
  },
  {
   "cell_type": "code",
   "execution_count": 34,
   "metadata": {
    "colab": {
     "autoexec": {
      "startup": false,
      "wait_interval": 0
     },
     "base_uri": "https://localhost:8080/",
     "height": 120
    },
    "colab_type": "code",
    "executionInfo": {
     "elapsed": 137191,
     "status": "ok",
     "timestamp": 1531250026028,
     "user": {
      "displayName": "Vivek Tiwari",
      "photoUrl": "https://lh3.googleusercontent.com/a/default-user=s128",
      "userId": "114333608223615134400"
     },
     "user_tz": -330
    },
    "id": "BmNlu90Fl1Eo",
    "outputId": "60d08791-06fb-4be8-ad71-bc9f159107d9"
   },
   "outputs": [
    {
     "name": "stdout",
     "output_type": "stream",
     "text": [
      "Epoch 1/2\n",
      "55000/55000 [==============================] - 68s 1ms/step - loss: 0.0729 - acc: 0.9783\n",
      "Epoch 2/2\n",
      "55000/55000 [==============================] - 68s 1ms/step - loss: 0.0495 - acc: 0.9850\n"
     ]
    },
    {
     "data": {
      "text/plain": [
       "<tensorflow.python.keras.callbacks.History at 0x7f7a22436908>"
      ]
     },
     "execution_count": 34,
     "metadata": {
      "tags": []
     },
     "output_type": "execute_result"
    }
   ],
   "source": [
    "model.fit(x=data.train.images,y=data.train.labels,epochs=2,batch_size=256)"
   ]
  },
  {
   "cell_type": "markdown",
   "metadata": {
    "colab_type": "text",
    "id": "ux5YVcxImfpx"
   },
   "source": [
    "**Evaluation**"
   ]
  },
  {
   "cell_type": "code",
   "execution_count": 36,
   "metadata": {
    "colab": {
     "autoexec": {
      "startup": false,
      "wait_interval": 0
     },
     "base_uri": "https://localhost:8080/",
     "height": 33
    },
    "colab_type": "code",
    "executionInfo": {
     "elapsed": 6825,
     "status": "ok",
     "timestamp": 1531250039901,
     "user": {
      "displayName": "Vivek Tiwari",
      "photoUrl": "https://lh3.googleusercontent.com/a/default-user=s128",
      "userId": "114333608223615134400"
     },
     "user_tz": -330
    },
    "id": "koy1CFeumJKh",
    "outputId": "4e7d8cab-8ab3-4ff9-c0f2-b30fe08fe4b9"
   },
   "outputs": [
    {
     "name": "stdout",
     "output_type": "stream",
     "text": [
      "10000/10000 [==============================] - 6s 584us/step\n"
     ]
    }
   ],
   "source": [
    "results = model.evaluate(x=data.test.images,y =data.test.labels)"
   ]
  },
  {
   "cell_type": "code",
   "execution_count": 45,
   "metadata": {
    "colab": {
     "autoexec": {
      "startup": false,
      "wait_interval": 0
     },
     "base_uri": "https://localhost:8080/",
     "height": 50
    },
    "colab_type": "code",
    "executionInfo": {
     "elapsed": 1012,
     "status": "ok",
     "timestamp": 1531250478300,
     "user": {
      "displayName": "Vivek Tiwari",
      "photoUrl": "https://lh3.googleusercontent.com/a/default-user=s128",
      "userId": "114333608223615134400"
     },
     "user_tz": -330
    },
    "id": "t8QfepLfmrtH",
    "outputId": "bc5c487d-2fe8-4027-e3df-26f7f5a22414"
   },
   "outputs": [
    {
     "name": "stdout",
     "output_type": "stream",
     "text": [
      "loss 0.039344866575382186\n",
      "acc 0.9866\n"
     ]
    }
   ],
   "source": [
    "for name, value in zip(model.metrics_names,results):\n",
    "  print(name+' '+str(value))"
   ]
  },
  {
   "cell_type": "markdown",
   "metadata": {
    "colab_type": "text",
    "id": "00yZjNRUpE4_"
   },
   "source": [
    "**Prediction**"
   ]
  },
  {
   "cell_type": "code",
   "execution_count": 46,
   "metadata": {
    "colab": {
     "autoexec": {
      "startup": false,
      "wait_interval": 0
     },
     "base_uri": "https://localhost:8080/",
     "height": 262
    },
    "colab_type": "code",
    "executionInfo": {
     "elapsed": 1546,
     "status": "ok",
     "timestamp": 1531250628968,
     "user": {
      "displayName": "Vivek Tiwari",
      "photoUrl": "https://lh3.googleusercontent.com/a/default-user=s128",
      "userId": "114333608223615134400"
     },
     "user_tz": -330
    },
    "id": "R65v1_uToi7k",
    "outputId": "28b6d69f-deb7-4d14-cb05-6da965b560d7"
   },
   "outputs": [
    {
     "data": {
      "image/png": "[encoded data removed]",
      "text/plain": [
       "<matplotlib.figure.Figure at 0x7f7a223c79e8>"
      ]
     },
     "metadata": {
      "tags": []
     },
     "output_type": "display_data"
    }
   ],
   "source": [
    "images = data.test.images[:9]\n",
    "y_true = data.test.cls[:9]\n",
    "y_pred = model.predict(x=images)\n",
    "y_pred_cls = np.argmax(y_pred,axis=1)\n",
    "\n",
    "plot_images(images,y_true,y_pred_cls)"
   ]
  },
  {
   "cell_type": "markdown",
   "metadata": {
    "colab_type": "text",
    "id": "E9j53V51po1j"
   },
   "source": [
    "**Mis-classified Images**"
   ]
  },
  {
   "cell_type": "code",
   "execution_count": 50,
   "metadata": {
    "colab": {
     "autoexec": {
      "startup": false,
      "wait_interval": 0
     },
     "base_uri": "https://localhost:8080/",
     "height": 262
    },
    "colab_type": "code",
    "executionInfo": {
     "elapsed": 6220,
     "status": "ok",
     "timestamp": 1531250834373,
     "user": {
      "displayName": "Vivek Tiwari",
      "photoUrl": "https://lh3.googleusercontent.com/a/default-user=s128",
      "userId": "114333608223615134400"
     },
     "user_tz": -330
    },
    "id": "QVXnKGRuplIp",
    "outputId": "4c3f14e2-79ea-4649-fa64-f7476a12d5a6"
   },
   "outputs": [
    {
     "data": {
      "image/png": "[encoded data removed]",
      "text/plain": [
       "<matplotlib.figure.Figure at 0x7f7a22610fd0>"
      ]
     },
     "metadata": {
      "tags": []
     },
     "output_type": "display_data"
    }
   ],
   "source": [
    "y_pred = model.predict(x=data.test.images)\n",
    "y_pred_cls = np.argmax(y_pred,axis=1)\n",
    "\n",
    "plot_example_errors(y_pred_cls)"
   ]
  },
  {
   "cell_type": "markdown",
   "metadata": {
    "colab_type": "text",
    "id": "KpZg9wA8rBG1"
   },
   "source": [
    "**Functional Model**"
   ]
  },
  {
   "cell_type": "code",
   "execution_count": 0,
   "metadata": {
    "colab": {
     "autoexec": {
      "startup": false,
      "wait_interval": 0
     }
    },
    "colab_type": "code",
    "id": "xbnI8hS3p_sH"
   },
   "outputs": [],
   "source": [
    "inputs = Input(shape=(img_flat_size,))\n",
    "input_layer = Reshape(img_shape_full)(inputs)\n",
    "conv_layer1 = Conv2D(kernel_size=5,strides=1,filters=16,padding='SAME',activation='relu',name='conv_layer1')(input_layer)\n",
    "pool_layer1 = MaxPooling2D(pool_size=2,strides=2)(conv_layer1)\n",
    "conv_layer2 = Conv2D(kernel_size=5,strides=1,filters=36,padding='SAME',activation='relu',name='conv_layer2')(pool_layer1)\n",
    "pool_layer2 = MaxPooling2D(pool_size=2,strides=2)(conv_layer2)\n",
    "flattened = Flatten()(pool_layer2)\n",
    "fc_1 = Dense(128,activation='relu')(flattened)\n",
    "output_layer = Dense(n_classes,activation='softmax')(fc_1)"
   ]
  },
  {
   "cell_type": "markdown",
   "metadata": {
    "colab_type": "text",
    "id": "xm0oWwv7smAn"
   },
   "source": [
    "**Model Compilation**"
   ]
  },
  {
   "cell_type": "code",
   "execution_count": 0,
   "metadata": {
    "colab": {
     "autoexec": {
      "startup": false,
      "wait_interval": 0
     }
    },
    "colab_type": "code",
    "id": "snxXmeRVsk_a"
   },
   "outputs": [],
   "source": [
    "from tensorflow.python.keras.models import Model\n",
    "\n",
    "fun_model = Model(inputs=inputs,outputs=output_layer)\n",
    "fun_model.compile(optimizer='adam',loss='categorical_crossentropy',metrics=['accuracy'])"
   ]
  },
  {
   "cell_type": "markdown",
   "metadata": {
    "colab_type": "text",
    "id": "jQHFrYRntevW"
   },
   "source": [
    "**Training**"
   ]
  },
  {
   "cell_type": "code",
   "execution_count": 65,
   "metadata": {
    "colab": {
     "autoexec": {
      "startup": false,
      "wait_interval": 0
     },
     "base_uri": "https://localhost:8080/",
     "height": 120
    },
    "colab_type": "code",
    "executionInfo": {
     "elapsed": 137415,
     "status": "ok",
     "timestamp": 1531252526549,
     "user": {
      "displayName": "Vivek Tiwari",
      "photoUrl": "https://lh3.googleusercontent.com/a/default-user=s128",
      "userId": "114333608223615134400"
     },
     "user_tz": -330
    },
    "id": "V3J5_cLttMLU",
    "outputId": "fe0f589a-a9e6-4b25-ff67-633b1f904597"
   },
   "outputs": [
    {
     "name": "stdout",
     "output_type": "stream",
     "text": [
      "Epoch 1/2\n",
      "55000/55000 [==============================] - 68s 1ms/step - loss: 0.3337 - acc: 0.9016\n",
      "Epoch 2/2\n",
      "55000/55000 [==============================] - 68s 1ms/step - loss: 0.0803 - acc: 0.9754\n"
     ]
    },
    {
     "data": {
      "text/plain": [
       "<tensorflow.python.keras.callbacks.History at 0x7f7a2551b9e8>"
      ]
     },
     "execution_count": 65,
     "metadata": {
      "tags": []
     },
     "output_type": "execute_result"
    }
   ],
   "source": [
    "fun_model.fit(x=data.train.images,y=data.train.labels,batch_size=256,epochs=2)"
   ]
  },
  {
   "cell_type": "markdown",
   "metadata": {
    "colab_type": "text",
    "id": "KxJInnlNuCRp"
   },
   "source": [
    "**Evaluation**"
   ]
  },
  {
   "cell_type": "code",
   "execution_count": 66,
   "metadata": {
    "colab": {
     "autoexec": {
      "startup": false,
      "wait_interval": 0
     },
     "base_uri": "https://localhost:8080/",
     "height": 33
    },
    "colab_type": "code",
    "executionInfo": {
     "elapsed": 6695,
     "status": "ok",
     "timestamp": 1531252533536,
     "user": {
      "displayName": "Vivek Tiwari",
      "photoUrl": "https://lh3.googleusercontent.com/a/default-user=s128",
      "userId": "114333608223615134400"
     },
     "user_tz": -330
    },
    "id": "fypmmXsTt5Rn",
    "outputId": "5824504b-ec54-46ae-e6e0-5541ac835bea"
   },
   "outputs": [
    {
     "name": "stdout",
     "output_type": "stream",
     "text": [
      "10000/10000 [==============================] - 6s 593us/step\n"
     ]
    }
   ],
   "source": [
    "results = fun_model.evaluate(x=data.test.images,y=data.test.labels)"
   ]
  },
  {
   "cell_type": "code",
   "execution_count": 67,
   "metadata": {
    "colab": {
     "autoexec": {
      "startup": false,
      "wait_interval": 0
     },
     "base_uri": "https://localhost:8080/",
     "height": 50
    },
    "colab_type": "code",
    "executionInfo": {
     "elapsed": 998,
     "status": "ok",
     "timestamp": 1531252534829,
     "user": {
      "displayName": "Vivek Tiwari",
      "photoUrl": "https://lh3.googleusercontent.com/a/default-user=s128",
      "userId": "114333608223615134400"
     },
     "user_tz": -330
    },
    "id": "tRdFKMfFuPlV",
    "outputId": "72725165-a435-49f4-a97a-542f214658be"
   },
   "outputs": [
    {
     "name": "stdout",
     "output_type": "stream",
     "text": [
      "loss 0.056536335194204\n",
      "acc 0.9818\n"
     ]
    }
   ],
   "source": [
    "for name, value in zip(fun_model.metrics_names,results):\n",
    "  print(name+' '+str(value))"
   ]
  },
  {
   "cell_type": "markdown",
   "metadata": {
    "colab_type": "text",
    "id": "SuBr2zLXuoKB"
   },
   "source": [
    "**Mis-classified Images**"
   ]
  },
  {
   "cell_type": "code",
   "execution_count": 68,
   "metadata": {
    "colab": {
     "autoexec": {
      "startup": false,
      "wait_interval": 0
     },
     "base_uri": "https://localhost:8080/",
     "height": 262
    },
    "colab_type": "code",
    "executionInfo": {
     "elapsed": 6779,
     "status": "ok",
     "timestamp": 1531252546216,
     "user": {
      "displayName": "Vivek Tiwari",
      "photoUrl": "https://lh3.googleusercontent.com/a/default-user=s128",
      "userId": "114333608223615134400"
     },
     "user_tz": -330
    },
    "id": "mvEYerm7ucDI",
    "outputId": "f08d3bec-c3ec-4d01-ffca-41d701361ea0"
   },
   "outputs": [
    {
     "data": {
      "image/png": "[encoded data removed]",
      "text/plain": [
       "<matplotlib.figure.Figure at 0x7f7a25478710>"
      ]
     },
     "metadata": {
      "tags": []
     },
     "output_type": "display_data"
    }
   ],
   "source": [
    "y_pred = fun_model.predict(x=data.test.images)\n",
    "y_pred_cls = np.argmax(y_pred,axis=1)\n",
    "\n",
    "plot_example_errors(y_pred_cls)"
   ]
  },
  {
   "cell_type": "markdown",
   "metadata": {
    "colab_type": "text",
    "id": "p7Nbhpm3u5S1"
   },
   "source": [
    "**Save and Load Model**"
   ]
  },
  {
   "cell_type": "code",
   "execution_count": 0,
   "metadata": {
    "colab": {
     "autoexec": {
      "startup": false,
      "wait_interval": 0
     }
    },
    "colab_type": "code",
    "id": "d4tNhvs-urP8"
   },
   "outputs": [],
   "source": [
    "path = 'model.keras_digreg'\n",
    "fun_model.save(path)\n",
    "del fun_model"
   ]
  },
  {
   "cell_type": "code",
   "execution_count": 0,
   "metadata": {
    "colab": {
     "autoexec": {
      "startup": false,
      "wait_interval": 0
     }
    },
    "colab_type": "code",
    "id": "egx7SCN5vMjp"
   },
   "outputs": [],
   "source": [
    "from tensorflow.python.keras.models import load_model\n",
    "loaded_model = load_model(path)"
   ]
  },
  {
   "cell_type": "code",
   "execution_count": 71,
   "metadata": {
    "colab": {
     "autoexec": {
      "startup": false,
      "wait_interval": 0
     },
     "base_uri": "https://localhost:8080/",
     "height": 262
    },
    "colab_type": "code",
    "executionInfo": {
     "elapsed": 1158,
     "status": "ok",
     "timestamp": 1531252559919,
     "user": {
      "displayName": "Vivek Tiwari",
      "photoUrl": "https://lh3.googleusercontent.com/a/default-user=s128",
      "userId": "114333608223615134400"
     },
     "user_tz": -330
    },
    "id": "Ei_l8kCrvZVW",
    "outputId": "c3298634-fc53-45bf-b107-bd7f22103573"
   },
   "outputs": [
    {
     "data": {
      "image/png": "[encoded data removed]",
      "text/plain": [
       "<matplotlib.figure.Figure at 0x7f7a1e959748>"
      ]
     },
     "metadata": {
      "tags": []
     },
     "output_type": "display_data"
    }
   ],
   "source": [
    "images = data.test.images[:9]\n",
    "y_true = data.test.cls[:9]\n",
    "y_pred = loaded_model.predict(x=images)\n",
    "y_pred_cls = np.argmax(y_pred,axis=1)\n",
    "\n",
    "plot_images(images,y_true,y_pred_cls)"
   ]
  },
  {
   "cell_type": "code",
   "execution_count": 72,
   "metadata": {
    "colab": {
     "autoexec": {
      "startup": false,
      "wait_interval": 0
     },
     "base_uri": "https://localhost:8080/",
     "height": 435
    },
    "colab_type": "code",
    "executionInfo": {
     "elapsed": 1159,
     "status": "ok",
     "timestamp": 1531252564513,
     "user": {
      "displayName": "Vivek Tiwari",
      "photoUrl": "https://lh3.googleusercontent.com/a/default-user=s128",
      "userId": "114333608223615134400"
     },
     "user_tz": -330
    },
    "id": "zVW2rNhlvlNs",
    "outputId": "8a141b1a-58c0-4e29-8f7f-056c8c1898a4"
   },
   "outputs": [
    {
     "name": "stdout",
     "output_type": "stream",
     "text": [
      "_________________________________________________________________\n",
      "Layer (type)                 Output Shape              Param #   \n",
      "=================================================================\n",
      "input_7 (InputLayer)         (None, 784)               0         \n",
      "_________________________________________________________________\n",
      "reshape_6 (Reshape)          (None, 28, 28, 1)         0         \n",
      "_________________________________________________________________\n",
      "conv_layer1 (Conv2D)         (None, 28, 28, 16)        416       \n",
      "_________________________________________________________________\n",
      "max_pooling2d_5 (MaxPooling2 (None, 14, 14, 16)        0         \n",
      "_________________________________________________________________\n",
      "conv_layer2 (Conv2D)         (None, 14, 14, 36)        14436     \n",
      "_________________________________________________________________\n",
      "max_pooling2d_6 (MaxPooling2 (None, 7, 7, 36)          0         \n",
      "_________________________________________________________________\n",
      "flatten_2 (Flatten)          (None, 1764)              0         \n",
      "_________________________________________________________________\n",
      "dense_4 (Dense)              (None, 128)               225920    \n",
      "_________________________________________________________________\n",
      "dense_5 (Dense)              (None, 10)                1290      \n",
      "=================================================================\n",
      "Total params: 242,062\n",
      "Trainable params: 242,062\n",
      "Non-trainable params: 0\n",
      "_________________________________________________________________\n"
     ]
    }
   ],
   "source": [
    "loaded_model.summary()"
   ]
  },
  {
   "cell_type": "code",
   "execution_count": 0,
   "metadata": {
    "colab": {
     "autoexec": {
      "startup": false,
      "wait_interval": 0
     }
    },
    "colab_type": "code",
    "id": "VlokSUoavq4v"
   },
   "outputs": [],
   "source": [
    "input_layer = loaded_model.layers[0]\n",
    "conv_layer1 = loaded_model.layers[2]\n",
    "conv_layer2 = loaded_model.layers[4]"
   ]
  },
  {
   "cell_type": "code",
   "execution_count": 83,
   "metadata": {
    "colab": {
     "autoexec": {
      "startup": false,
      "wait_interval": 0
     },
     "base_uri": "https://localhost:8080/",
     "height": 50
    },
    "colab_type": "code",
    "executionInfo": {
     "elapsed": 1130,
     "status": "ok",
     "timestamp": 1531252816361,
     "user": {
      "displayName": "Vivek Tiwari",
      "photoUrl": "https://lh3.googleusercontent.com/a/default-user=s128",
      "userId": "114333608223615134400"
     },
     "user_tz": -330
    },
    "id": "sm8Kjpf2v1a9",
    "outputId": "f3e01b52-8f84-442f-e83a-f8ffd893b546"
   },
   "outputs": [
    {
     "name": "stdout",
     "output_type": "stream",
     "text": [
      "(5, 5, 1, 16)\n",
      "(16,)\n"
     ]
    }
   ],
   "source": [
    "conv1_weights = conv_layer1.get_weights()[0]\n",
    "print(conv1_weights.shape)\n",
    "conv1_baises = conv_layer1.get_weights()[1]\n",
    "print(conv1_baises.shape)"
   ]
  },
  {
   "cell_type": "code",
   "execution_count": 0,
   "metadata": {
    "colab": {
     "autoexec": {
      "startup": false,
      "wait_interval": 0
     }
    },
    "colab_type": "code",
    "id": "A922UZIkyAwx"
   },
   "outputs": [],
   "source": []
  }
 ],
 "metadata": {
  "colab": {
   "collapsed_sections": [],
   "default_view": {},
   "name": "03C_keras.ipynb",
   "provenance": [],
   "version": "0.3.2",
   "views": {}
  },
  "kernelspec": {
   "display_name": "Python 3",
   "language": "python",
   "name": "python3"
  },
  "language_info": {
   "codemirror_mode": {
    "name": "ipython",
    "version": 3
   },
   "file_extension": ".py",
   "mimetype": "text/x-python",
   "name": "python",
   "nbconvert_exporter": "python",
   "pygments_lexer": "ipython3",
   "version": "3.6.4"
  }
 },
 "nbformat": 4,
 "nbformat_minor": 1
}
